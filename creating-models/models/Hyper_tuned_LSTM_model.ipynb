{
  "cells": [
    {
      "cell_type": "markdown",
      "metadata": {
        "id": "G64RQTnyCqsW"
      },
      "source": [
        "#Hyper tuning"
      ]
    },
    {
      "cell_type": "code",
      "execution_count": null,
      "metadata": {
        "colab": {
          "base_uri": "https://localhost:8080/"
        },
        "id": "8Y-zMJdTCuO0",
        "outputId": "f81965ed-3a39-4686-8e23-25faf51e82e2"
      },
      "outputs": [
        {
          "name": "stdout",
          "output_type": "stream",
          "text": [
            "Collecting optuna\n",
            "  Downloading optuna-3.6.1-py3-none-any.whl (380 kB)\n",
            "\u001b[2K     \u001b[90m━━━━━━━━━━━━━━━━━━━━━━━━━━━━━━━━━━━━━━━━\u001b[0m \u001b[32m380.1/380.1 kB\u001b[0m \u001b[31m7.2 MB/s\u001b[0m eta \u001b[36m0:00:00\u001b[0m\n",
            "\u001b[?25hCollecting alembic>=1.5.0 (from optuna)\n",
            "  Downloading alembic-1.13.1-py3-none-any.whl (233 kB)\n",
            "\u001b[2K     \u001b[90m━━━━━━━━━━━━━━━━━━━━━━━━━━━━━━━━━━━━━━━━\u001b[0m \u001b[32m233.4/233.4 kB\u001b[0m \u001b[31m20.9 MB/s\u001b[0m eta \u001b[36m0:00:00\u001b[0m\n",
            "\u001b[?25hCollecting colorlog (from optuna)\n",
            "  Downloading colorlog-6.8.2-py3-none-any.whl (11 kB)\n",
            "Requirement already satisfied: numpy in /usr/local/lib/python3.10/dist-packages (from optuna) (1.25.2)\n",
            "Requirement already satisfied: packaging>=20.0 in /usr/local/lib/python3.10/dist-packages (from optuna) (24.0)\n",
            "Requirement already satisfied: sqlalchemy>=1.3.0 in /usr/local/lib/python3.10/dist-packages (from optuna) (2.0.29)\n",
            "Requirement already satisfied: tqdm in /usr/local/lib/python3.10/dist-packages (from optuna) (4.66.2)\n",
            "Requirement already satisfied: PyYAML in /usr/local/lib/python3.10/dist-packages (from optuna) (6.0.1)\n",
            "Collecting Mako (from alembic>=1.5.0->optuna)\n",
            "  Downloading Mako-1.3.3-py3-none-any.whl (78 kB)\n",
            "\u001b[2K     \u001b[90m━━━━━━━━━━━━━━━━━━━━━━━━━━━━━━━━━━━━━━━━\u001b[0m \u001b[32m78.8/78.8 kB\u001b[0m \u001b[31m8.6 MB/s\u001b[0m eta \u001b[36m0:00:00\u001b[0m\n",
            "\u001b[?25hRequirement already satisfied: typing-extensions>=4 in /usr/local/lib/python3.10/dist-packages (from alembic>=1.5.0->optuna) (4.10.0)\n",
            "Requirement already satisfied: greenlet!=0.4.17 in /usr/local/lib/python3.10/dist-packages (from sqlalchemy>=1.3.0->optuna) (3.0.3)\n",
            "Requirement already satisfied: MarkupSafe>=0.9.2 in /usr/local/lib/python3.10/dist-packages (from Mako->alembic>=1.5.0->optuna) (2.1.5)\n",
            "Installing collected packages: Mako, colorlog, alembic, optuna\n",
            "Successfully installed Mako-1.3.3 alembic-1.13.1 colorlog-6.8.2 optuna-3.6.1\n"
          ]
        }
      ],
      "source": [
        "! pip install optuna"
      ]
    },
    {
      "cell_type": "code",
      "execution_count": null,
      "metadata": {
        "id": "rnTYGWK3Csm0"
      },
      "outputs": [],
      "source": [
        "import optuna\n",
        "from sklearn.metrics import accuracy_score\n",
        "\n",
        "def objective(trial):\n",
        "    # Define the hyperparameters to tune\n",
        "    units = trial.suggest_int('units', 16, 256)\n",
        "    learning_rate = trial.suggest_float('learning_rate', 1e-5, 1e-1, log=True)\n",
        "    optimizer_name = trial.suggest_categorical('optimizer', ['adam', 'rmsprop', 'nadam'])\n",
        "    l2_reg = trial.suggest_loguniform('l2_reg', 1e-5, 1e-1)\n",
        "    batch_size = trial.suggest_categorical('batch_size', [16, 32, 64, 128])\n",
        "\n",
        "   \n",
        "    num_features = X_processed.shape[1] \n",
        "    input_shape = (num_features,)  \n",
        "\n",
        "    model = Sequential([\n",
        "       \n",
        "        Reshape((1, num_features), input_shape=input_shape),\n",
        "        LSTM(units, activation='relu', kernel_regularizer=regularizers.l2(l2_reg)),\n",
        "        Dense(3, activation='softmax')  \n",
        "    ])\n",
        "\n",
        "    # Define the optimizer\n",
        "    if optimizer_name == 'adam':\n",
        "        optimizer = tf.keras.optimizers.Adam(learning_rate=learning_rate)\n",
        "    elif optimizer_name == 'rmsprop':\n",
        "        optimizer = tf.keras.optimizers.RMSprop(learning_rate=learning_rate)\n",
        "    elif optimizer_name == 'nadam':\n",
        "        optimizer = tf.keras.optimizers.Nadam(learning_rate=learning_rate)\n",
        "    else:\n",
        "        raise ValueError(f\"Unsupported optimizer: {optimizer_name}\")\n",
        "\n",
        "    # Compile the model\n",
        "    model.compile(optimizer=optimizer,\n",
        "                  loss=tf.keras.losses.SparseCategoricalCrossentropy(),\n",
        "                  metrics=['accuracy'])\n",
        "\n",
        "    # Train the model\n",
        "    history = model.fit(X_train, y_train, validation_data=(X_val, y_val), batch_size=batch_size, epochs=20, verbose=0)\n",
        "\n",
        "    # Evaluate the model on the validation set\n",
        "    y_val_pred = model.predict(X_test)\n",
        "    y_val_pred_binary = np.argmax(y_val_pred, axis=1)\n",
        "    accuracy = accuracy_score(y_test, y_val_pred_binary)\n",
        "\n",
        "    # Return the accuracy as the performance metric\n",
        "    return accuracy"
      ]
    },
    {
      "cell_type": "code",
      "execution_count": null,
      "metadata": {
        "colab": {
          "base_uri": "https://localhost:8080/"
        },
        "id": "4vHOwftNCzsJ",
        "outputId": "be1bea23-6d26-42df-8a07-c139eabcbc98"
      },
      "outputs": [
        {
          "name": "stderr",
          "output_type": "stream",
          "text": [
            "[I 2024-04-11 14:00:18,066] A new study created in RDB with name: NN2\n",
            "<ipython-input-120-269bc7e5d13c>:9: FutureWarning: suggest_loguniform has been deprecated in v3.0.0. This feature will be removed in v6.0.0. See https://github.com/optuna/optuna/releases/tag/v3.0.0. Use suggest_float(..., log=True) instead.\n",
            "  l2_reg = trial.suggest_loguniform('l2_reg', 1e-5, 1e-1)\n"
          ]
        },
        {
          "name": "stdout",
          "output_type": "stream",
          "text": [
            "171/171 [==============================] - 1s 2ms/step\n"
          ]
        },
        {
          "name": "stderr",
          "output_type": "stream",
          "text": [
            "[I 2024-04-11 14:02:45,114] Trial 0 finished with value: 0.7645444566410537 and parameters: {'units': 93, 'learning_rate': 0.008788989532277552, 'optimizer': 'adam', 'l2_reg': 0.08729566361896335, 'batch_size': 64}. Best is trial 0 with value: 0.7645444566410537.\n",
            "<ipython-input-120-269bc7e5d13c>:9: FutureWarning: suggest_loguniform has been deprecated in v3.0.0. This feature will be removed in v6.0.0. See https://github.com/optuna/optuna/releases/tag/v3.0.0. Use suggest_float(..., log=True) instead.\n",
            "  l2_reg = trial.suggest_loguniform('l2_reg', 1e-5, 1e-1)\n"
          ]
        },
        {
          "name": "stdout",
          "output_type": "stream",
          "text": [
            "171/171 [==============================] - 1s 2ms/step\n"
          ]
        },
        {
          "name": "stderr",
          "output_type": "stream",
          "text": [
            "[I 2024-04-11 14:05:19,023] Trial 1 finished with value: 0.8166849615806806 and parameters: {'units': 140, 'learning_rate': 0.0025520852269816123, 'optimizer': 'nadam', 'l2_reg': 9.871290572183403e-05, 'batch_size': 32}. Best is trial 1 with value: 0.8166849615806806.\n",
            "<ipython-input-120-269bc7e5d13c>:9: FutureWarning: suggest_loguniform has been deprecated in v3.0.0. This feature will be removed in v6.0.0. See https://github.com/optuna/optuna/releases/tag/v3.0.0. Use suggest_float(..., log=True) instead.\n",
            "  l2_reg = trial.suggest_loguniform('l2_reg', 1e-5, 1e-1)\n"
          ]
        },
        {
          "name": "stdout",
          "output_type": "stream",
          "text": [
            "171/171 [==============================] - 1s 3ms/step\n"
          ]
        },
        {
          "name": "stderr",
          "output_type": "stream",
          "text": [
            "[I 2024-04-11 14:08:44,342] Trial 2 finished with value: 0.8207098426637395 and parameters: {'units': 205, 'learning_rate': 0.00020873779915189786, 'optimizer': 'adam', 'l2_reg': 2.1531841401556255e-05, 'batch_size': 32}. Best is trial 2 with value: 0.8207098426637395.\n",
            "<ipython-input-120-269bc7e5d13c>:9: FutureWarning: suggest_loguniform has been deprecated in v3.0.0. This feature will be removed in v6.0.0. See https://github.com/optuna/optuna/releases/tag/v3.0.0. Use suggest_float(..., log=True) instead.\n",
            "  l2_reg = trial.suggest_loguniform('l2_reg', 1e-5, 1e-1)\n"
          ]
        },
        {
          "name": "stdout",
          "output_type": "stream",
          "text": [
            "171/171 [==============================] - 1s 3ms/step\n"
          ]
        },
        {
          "name": "stderr",
          "output_type": "stream",
          "text": [
            "[I 2024-04-11 14:11:08,921] Trial 3 finished with value: 0.818880351262349 and parameters: {'units': 251, 'learning_rate': 0.00041878903188712107, 'optimizer': 'adam', 'l2_reg': 0.0016642371591390327, 'batch_size': 64}. Best is trial 2 with value: 0.8207098426637395.\n",
            "<ipython-input-120-269bc7e5d13c>:9: FutureWarning: suggest_loguniform has been deprecated in v3.0.0. This feature will be removed in v6.0.0. See https://github.com/optuna/optuna/releases/tag/v3.0.0. Use suggest_float(..., log=True) instead.\n",
            "  l2_reg = trial.suggest_loguniform('l2_reg', 1e-5, 1e-1)\n"
          ]
        },
        {
          "name": "stdout",
          "output_type": "stream",
          "text": [
            "171/171 [==============================] - 0s 2ms/step\n"
          ]
        },
        {
          "name": "stderr",
          "output_type": "stream",
          "text": [
            "[I 2024-04-11 14:11:42,449] Trial 4 finished with value: 0.8166849615806806 and parameters: {'units': 76, 'learning_rate': 0.015949287963998346, 'optimizer': 'rmsprop', 'l2_reg': 4.95113318550004e-05, 'batch_size': 128}. Best is trial 2 with value: 0.8207098426637395.\n",
            "<ipython-input-120-269bc7e5d13c>:9: FutureWarning: suggest_loguniform has been deprecated in v3.0.0. This feature will be removed in v6.0.0. See https://github.com/optuna/optuna/releases/tag/v3.0.0. Use suggest_float(..., log=True) instead.\n",
            "  l2_reg = trial.suggest_loguniform('l2_reg', 1e-5, 1e-1)\n"
          ]
        },
        {
          "name": "stdout",
          "output_type": "stream",
          "text": [
            "171/171 [==============================] - 1s 3ms/step\n"
          ]
        },
        {
          "name": "stderr",
          "output_type": "stream",
          "text": [
            "[I 2024-04-11 14:13:40,156] Trial 5 finished with value: 0.8181485547017929 and parameters: {'units': 208, 'learning_rate': 0.00027197675222587247, 'optimizer': 'nadam', 'l2_reg': 1.2286340435726532e-05, 'batch_size': 64}. Best is trial 2 with value: 0.8207098426637395.\n",
            "<ipython-input-120-269bc7e5d13c>:9: FutureWarning: suggest_loguniform has been deprecated in v3.0.0. This feature will be removed in v6.0.0. See https://github.com/optuna/optuna/releases/tag/v3.0.0. Use suggest_float(..., log=True) instead.\n",
            "  l2_reg = trial.suggest_loguniform('l2_reg', 1e-5, 1e-1)\n"
          ]
        },
        {
          "name": "stdout",
          "output_type": "stream",
          "text": [
            "171/171 [==============================] - 1s 3ms/step\n"
          ]
        },
        {
          "name": "stderr",
          "output_type": "stream",
          "text": [
            "[I 2024-04-11 14:17:05,787] Trial 6 finished with value: 0.8285766556897183 and parameters: {'units': 244, 'learning_rate': 0.0010785609014660003, 'optimizer': 'adam', 'l2_reg': 7.56841458323909e-05, 'batch_size': 32}. Best is trial 6 with value: 0.8285766556897183.\n",
            "<ipython-input-120-269bc7e5d13c>:9: FutureWarning: suggest_loguniform has been deprecated in v3.0.0. This feature will be removed in v6.0.0. See https://github.com/optuna/optuna/releases/tag/v3.0.0. Use suggest_float(..., log=True) instead.\n",
            "  l2_reg = trial.suggest_loguniform('l2_reg', 1e-5, 1e-1)\n"
          ]
        },
        {
          "name": "stdout",
          "output_type": "stream",
          "text": [
            "171/171 [==============================] - 0s 2ms/step\n"
          ]
        },
        {
          "name": "stderr",
          "output_type": "stream",
          "text": [
            "[I 2024-04-11 14:20:31,337] Trial 7 finished with value: 0.7416758141236737 and parameters: {'units': 85, 'learning_rate': 0.01127367991743629, 'optimizer': 'nadam', 'l2_reg': 0.04032702766587862, 'batch_size': 16}. Best is trial 6 with value: 0.8285766556897183.\n",
            "<ipython-input-120-269bc7e5d13c>:9: FutureWarning: suggest_loguniform has been deprecated in v3.0.0. This feature will be removed in v6.0.0. See https://github.com/optuna/optuna/releases/tag/v3.0.0. Use suggest_float(..., log=True) instead.\n",
            "  l2_reg = trial.suggest_loguniform('l2_reg', 1e-5, 1e-1)\n"
          ]
        },
        {
          "name": "stdout",
          "output_type": "stream",
          "text": [
            "171/171 [==============================] - 1s 2ms/step\n"
          ]
        },
        {
          "name": "stderr",
          "output_type": "stream",
          "text": [
            "[I 2024-04-11 14:22:55,630] Trial 8 finished with value: 0.7446030003658983 and parameters: {'units': 157, 'learning_rate': 1.4951021934379e-05, 'optimizer': 'rmsprop', 'l2_reg': 4.564295329959031e-05, 'batch_size': 64}. Best is trial 6 with value: 0.8285766556897183.\n",
            "<ipython-input-120-269bc7e5d13c>:9: FutureWarning: suggest_loguniform has been deprecated in v3.0.0. This feature will be removed in v6.0.0. See https://github.com/optuna/optuna/releases/tag/v3.0.0. Use suggest_float(..., log=True) instead.\n",
            "  l2_reg = trial.suggest_loguniform('l2_reg', 1e-5, 1e-1)\n"
          ]
        },
        {
          "name": "stdout",
          "output_type": "stream",
          "text": [
            "171/171 [==============================] - 1s 3ms/step\n"
          ]
        },
        {
          "name": "stderr",
          "output_type": "stream",
          "text": [
            "[I 2024-04-11 14:27:20,710] Trial 9 finished with value: 0.8150384193194292 and parameters: {'units': 256, 'learning_rate': 0.004855682776542134, 'optimizer': 'nadam', 'l2_reg': 0.009056618588382486, 'batch_size': 32}. Best is trial 6 with value: 0.8285766556897183.\n",
            "<ipython-input-120-269bc7e5d13c>:9: FutureWarning: suggest_loguniform has been deprecated in v3.0.0. This feature will be removed in v6.0.0. See https://github.com/optuna/optuna/releases/tag/v3.0.0. Use suggest_float(..., log=True) instead.\n",
            "  l2_reg = trial.suggest_loguniform('l2_reg', 1e-5, 1e-1)\n"
          ]
        },
        {
          "name": "stdout",
          "output_type": "stream",
          "text": [
            "171/171 [==============================] - 0s 2ms/step\n"
          ]
        },
        {
          "name": "stderr",
          "output_type": "stream",
          "text": [
            "[I 2024-04-11 14:27:46,049] Trial 10 finished with value: 0.7815587266739846 and parameters: {'units': 20, 'learning_rate': 0.07461820781501287, 'optimizer': 'adam', 'l2_reg': 0.000325784721374119, 'batch_size': 128}. Best is trial 6 with value: 0.8285766556897183.\n",
            "<ipython-input-120-269bc7e5d13c>:9: FutureWarning: suggest_loguniform has been deprecated in v3.0.0. This feature will be removed in v6.0.0. See https://github.com/optuna/optuna/releases/tag/v3.0.0. Use suggest_float(..., log=True) instead.\n",
            "  l2_reg = trial.suggest_loguniform('l2_reg', 1e-5, 1e-1)\n"
          ]
        },
        {
          "name": "stdout",
          "output_type": "stream",
          "text": [
            "171/171 [==============================] - 1s 3ms/step\n"
          ]
        },
        {
          "name": "stderr",
          "output_type": "stream",
          "text": [
            "[I 2024-04-11 14:31:10,681] Trial 11 finished with value: 0.8091840468349799 and parameters: {'units': 197, 'learning_rate': 6.0685260978155745e-05, 'optimizer': 'adam', 'l2_reg': 1.5880447241270118e-05, 'batch_size': 32}. Best is trial 6 with value: 0.8285766556897183.\n",
            "<ipython-input-120-269bc7e5d13c>:9: FutureWarning: suggest_loguniform has been deprecated in v3.0.0. This feature will be removed in v6.0.0. See https://github.com/optuna/optuna/releases/tag/v3.0.0. Use suggest_float(..., log=True) instead.\n",
            "  l2_reg = trial.suggest_loguniform('l2_reg', 1e-5, 1e-1)\n"
          ]
        },
        {
          "name": "stdout",
          "output_type": "stream",
          "text": [
            "171/171 [==============================] - 1s 3ms/step\n"
          ]
        },
        {
          "name": "stderr",
          "output_type": "stream",
          "text": [
            "[I 2024-04-11 14:34:15,402] Trial 12 finished with value: 0.8172338090010977 and parameters: {'units': 209, 'learning_rate': 0.0007109837395657758, 'optimizer': 'adam', 'l2_reg': 0.0004382573630301129, 'batch_size': 32}. Best is trial 6 with value: 0.8285766556897183.\n",
            "<ipython-input-120-269bc7e5d13c>:9: FutureWarning: suggest_loguniform has been deprecated in v3.0.0. This feature will be removed in v6.0.0. See https://github.com/optuna/optuna/releases/tag/v3.0.0. Use suggest_float(..., log=True) instead.\n",
            "  l2_reg = trial.suggest_loguniform('l2_reg', 1e-5, 1e-1)\n"
          ]
        },
        {
          "name": "stdout",
          "output_type": "stream",
          "text": [
            "171/171 [==============================] - 1s 2ms/step\n"
          ]
        },
        {
          "name": "stderr",
          "output_type": "stream",
          "text": [
            "[I 2024-04-11 14:37:06,847] Trial 13 finished with value: 0.809915843395536 and parameters: {'units': 180, 'learning_rate': 8.089033829696652e-05, 'optimizer': 'adam', 'l2_reg': 0.00014926218531580125, 'batch_size': 32}. Best is trial 6 with value: 0.8285766556897183.\n",
            "<ipython-input-120-269bc7e5d13c>:9: FutureWarning: suggest_loguniform has been deprecated in v3.0.0. This feature will be removed in v6.0.0. See https://github.com/optuna/optuna/releases/tag/v3.0.0. Use suggest_float(..., log=True) instead.\n",
            "  l2_reg = trial.suggest_loguniform('l2_reg', 1e-5, 1e-1)\n"
          ]
        },
        {
          "name": "stdout",
          "output_type": "stream",
          "text": [
            "171/171 [==============================] - 1s 3ms/step\n"
          ]
        },
        {
          "name": "stderr",
          "output_type": "stream",
          "text": [
            "[I 2024-04-11 14:43:05,074] Trial 14 finished with value: 0.8146725210391511 and parameters: {'units': 230, 'learning_rate': 0.00012247939470942066, 'optimizer': 'adam', 'l2_reg': 0.002005981423221969, 'batch_size': 16}. Best is trial 6 with value: 0.8285766556897183.\n",
            "<ipython-input-120-269bc7e5d13c>:9: FutureWarning: suggest_loguniform has been deprecated in v3.0.0. This feature will be removed in v6.0.0. See https://github.com/optuna/optuna/releases/tag/v3.0.0. Use suggest_float(..., log=True) instead.\n",
            "  l2_reg = trial.suggest_loguniform('l2_reg', 1e-5, 1e-1)\n"
          ]
        },
        {
          "name": "stdout",
          "output_type": "stream",
          "text": [
            "171/171 [==============================] - 1s 3ms/step\n"
          ]
        },
        {
          "name": "stderr",
          "output_type": "stream",
          "text": [
            "[I 2024-04-11 14:46:30,390] Trial 15 finished with value: 0.8247347237467983 and parameters: {'units': 171, 'learning_rate': 0.0015008560248951405, 'optimizer': 'adam', 'l2_reg': 2.82671231948167e-05, 'batch_size': 32}. Best is trial 6 with value: 0.8285766556897183.\n",
            "<ipython-input-120-269bc7e5d13c>:9: FutureWarning: suggest_loguniform has been deprecated in v3.0.0. This feature will be removed in v6.0.0. See https://github.com/optuna/optuna/releases/tag/v3.0.0. Use suggest_float(..., log=True) instead.\n",
            "  l2_reg = trial.suggest_loguniform('l2_reg', 1e-5, 1e-1)\n"
          ]
        },
        {
          "name": "stdout",
          "output_type": "stream",
          "text": [
            "171/171 [==============================] - 1s 2ms/step\n"
          ]
        },
        {
          "name": "stderr",
          "output_type": "stream",
          "text": [
            "[I 2024-04-11 14:48:27,111] Trial 16 finished with value: 0.8161361141602634 and parameters: {'units': 118, 'learning_rate': 0.0018981764166456667, 'optimizer': 'rmsprop', 'l2_reg': 0.0004373811151787409, 'batch_size': 32}. Best is trial 6 with value: 0.8285766556897183.\n",
            "<ipython-input-120-269bc7e5d13c>:9: FutureWarning: suggest_loguniform has been deprecated in v3.0.0. This feature will be removed in v6.0.0. See https://github.com/optuna/optuna/releases/tag/v3.0.0. Use suggest_float(..., log=True) instead.\n",
            "  l2_reg = trial.suggest_loguniform('l2_reg', 1e-5, 1e-1)\n"
          ]
        },
        {
          "name": "stdout",
          "output_type": "stream",
          "text": [
            "171/171 [==============================] - 1s 3ms/step\n"
          ]
        },
        {
          "name": "stderr",
          "output_type": "stream",
          "text": [
            "[I 2024-04-11 14:51:11,659] Trial 17 finished with value: 0.8165020124405415 and parameters: {'units': 165, 'learning_rate': 0.0009752902382452334, 'optimizer': 'adam', 'l2_reg': 6.087069564841888e-05, 'batch_size': 32}. Best is trial 6 with value: 0.8285766556897183.\n",
            "<ipython-input-120-269bc7e5d13c>:9: FutureWarning: suggest_loguniform has been deprecated in v3.0.0. This feature will be removed in v6.0.0. See https://github.com/optuna/optuna/releases/tag/v3.0.0. Use suggest_float(..., log=True) instead.\n",
            "  l2_reg = trial.suggest_loguniform('l2_reg', 1e-5, 1e-1)\n"
          ]
        },
        {
          "name": "stdout",
          "output_type": "stream",
          "text": [
            "171/171 [==============================] - 1s 2ms/step\n"
          ]
        },
        {
          "name": "stderr",
          "output_type": "stream",
          "text": [
            "[I 2024-04-11 14:54:39,454] Trial 18 finished with value: 0.7789974387120381 and parameters: {'units': 121, 'learning_rate': 0.03548299072989343, 'optimizer': 'adam', 'l2_reg': 0.00020294959110468596, 'batch_size': 16}. Best is trial 6 with value: 0.8285766556897183.\n",
            "<ipython-input-120-269bc7e5d13c>:9: FutureWarning: suggest_loguniform has been deprecated in v3.0.0. This feature will be removed in v6.0.0. See https://github.com/optuna/optuna/releases/tag/v3.0.0. Use suggest_float(..., log=True) instead.\n",
            "  l2_reg = trial.suggest_loguniform('l2_reg', 1e-5, 1e-1)\n"
          ]
        },
        {
          "name": "stdout",
          "output_type": "stream",
          "text": [
            "171/171 [==============================] - 1s 3ms/step\n"
          ]
        },
        {
          "name": "stderr",
          "output_type": "stream",
          "text": [
            "[I 2024-04-11 14:55:53,235] Trial 19 finished with value: 0.8047932674716429 and parameters: {'units': 230, 'learning_rate': 0.0028324096757194393, 'optimizer': 'rmsprop', 'l2_reg': 0.004488160297196571, 'batch_size': 128}. Best is trial 6 with value: 0.8285766556897183.\n",
            "<ipython-input-120-269bc7e5d13c>:9: FutureWarning: suggest_loguniform has been deprecated in v3.0.0. This feature will be removed in v6.0.0. See https://github.com/optuna/optuna/releases/tag/v3.0.0. Use suggest_float(..., log=True) instead.\n",
            "  l2_reg = trial.suggest_loguniform('l2_reg', 1e-5, 1e-1)\n"
          ]
        },
        {
          "name": "stdout",
          "output_type": "stream",
          "text": [
            "171/171 [==============================] - 1s 3ms/step\n"
          ]
        },
        {
          "name": "stderr",
          "output_type": "stream",
          "text": [
            "[I 2024-04-11 14:57:16,752] Trial 20 finished with value: 0.7749725576289791 and parameters: {'units': 40, 'learning_rate': 2.7529049182089537e-05, 'optimizer': 'adam', 'l2_reg': 3.0807666721719925e-05, 'batch_size': 32}. Best is trial 6 with value: 0.8285766556897183.\n",
            "<ipython-input-120-269bc7e5d13c>:9: FutureWarning: suggest_loguniform has been deprecated in v3.0.0. This feature will be removed in v6.0.0. See https://github.com/optuna/optuna/releases/tag/v3.0.0. Use suggest_float(..., log=True) instead.\n",
            "  l2_reg = trial.suggest_loguniform('l2_reg', 1e-5, 1e-1)\n"
          ]
        },
        {
          "name": "stdout",
          "output_type": "stream",
          "text": [
            "171/171 [==============================] - 1s 3ms/step\n"
          ]
        },
        {
          "name": "stderr",
          "output_type": "stream",
          "text": [
            "[I 2024-04-11 15:00:13,858] Trial 21 finished with value: 0.8210757409440176 and parameters: {'units': 186, 'learning_rate': 0.00021708394185230445, 'optimizer': 'adam', 'l2_reg': 1.0762024263119254e-05, 'batch_size': 32}. Best is trial 6 with value: 0.8285766556897183.\n",
            "<ipython-input-120-269bc7e5d13c>:9: FutureWarning: suggest_loguniform has been deprecated in v3.0.0. This feature will be removed in v6.0.0. See https://github.com/optuna/optuna/releases/tag/v3.0.0. Use suggest_float(..., log=True) instead.\n",
            "  l2_reg = trial.suggest_loguniform('l2_reg', 1e-5, 1e-1)\n"
          ]
        },
        {
          "name": "stdout",
          "output_type": "stream",
          "text": [
            "171/171 [==============================] - 1s 3ms/step\n"
          ]
        },
        {
          "name": "stderr",
          "output_type": "stream",
          "text": [
            "[I 2024-04-11 15:03:38,480] Trial 22 finished with value: 0.8252835711672155 and parameters: {'units': 176, 'learning_rate': 0.0006052653984401392, 'optimizer': 'adam', 'l2_reg': 1.0152608631067955e-05, 'batch_size': 32}. Best is trial 6 with value: 0.8285766556897183.\n",
            "<ipython-input-120-269bc7e5d13c>:9: FutureWarning: suggest_loguniform has been deprecated in v3.0.0. This feature will be removed in v6.0.0. See https://github.com/optuna/optuna/releases/tag/v3.0.0. Use suggest_float(..., log=True) instead.\n",
            "  l2_reg = trial.suggest_loguniform('l2_reg', 1e-5, 1e-1)\n"
          ]
        },
        {
          "name": "stdout",
          "output_type": "stream",
          "text": [
            "171/171 [==============================] - 1s 2ms/step\n"
          ]
        },
        {
          "name": "stderr",
          "output_type": "stream",
          "text": [
            "[I 2024-04-11 15:06:00,322] Trial 23 finished with value: 0.8247347237467983 and parameters: {'units': 151, 'learning_rate': 0.0006340125700987825, 'optimizer': 'adam', 'l2_reg': 9.507724666040897e-05, 'batch_size': 32}. Best is trial 6 with value: 0.8285766556897183.\n",
            "<ipython-input-120-269bc7e5d13c>:9: FutureWarning: suggest_loguniform has been deprecated in v3.0.0. This feature will be removed in v6.0.0. See https://github.com/optuna/optuna/releases/tag/v3.0.0. Use suggest_float(..., log=True) instead.\n",
            "  l2_reg = trial.suggest_loguniform('l2_reg', 1e-5, 1e-1)\n"
          ]
        },
        {
          "name": "stdout",
          "output_type": "stream",
          "text": [
            "171/171 [==============================] - 1s 3ms/step\n"
          ]
        },
        {
          "name": "stderr",
          "output_type": "stream",
          "text": [
            "[I 2024-04-11 15:09:25,064] Trial 24 finished with value: 0.8236370289059641 and parameters: {'units': 230, 'learning_rate': 0.0011627807358710104, 'optimizer': 'adam', 'l2_reg': 2.5503956609292488e-05, 'batch_size': 32}. Best is trial 6 with value: 0.8285766556897183.\n",
            "<ipython-input-120-269bc7e5d13c>:9: FutureWarning: suggest_loguniform has been deprecated in v3.0.0. This feature will be removed in v6.0.0. See https://github.com/optuna/optuna/releases/tag/v3.0.0. Use suggest_float(..., log=True) instead.\n",
            "  l2_reg = trial.suggest_loguniform('l2_reg', 1e-5, 1e-1)\n"
          ]
        },
        {
          "name": "stdout",
          "output_type": "stream",
          "text": [
            "171/171 [==============================] - 1s 3ms/step\n"
          ]
        },
        {
          "name": "stderr",
          "output_type": "stream",
          "text": [
            "[I 2024-04-11 15:12:06,528] Trial 25 finished with value: 0.827661909989023 and parameters: {'units': 171, 'learning_rate': 0.004378155887522324, 'optimizer': 'adam', 'l2_reg': 3.330288863419538e-05, 'batch_size': 32}. Best is trial 6 with value: 0.8285766556897183.\n",
            "<ipython-input-120-269bc7e5d13c>:9: FutureWarning: suggest_loguniform has been deprecated in v3.0.0. This feature will be removed in v6.0.0. See https://github.com/optuna/optuna/releases/tag/v3.0.0. Use suggest_float(..., log=True) instead.\n",
            "  l2_reg = trial.suggest_loguniform('l2_reg', 1e-5, 1e-1)\n"
          ]
        },
        {
          "name": "stdout",
          "output_type": "stream",
          "text": [
            "171/171 [==============================] - 1s 2ms/step\n"
          ]
        },
        {
          "name": "stderr",
          "output_type": "stream",
          "text": [
            "[I 2024-04-11 15:14:31,150] Trial 26 finished with value: 0.8197950969630443 and parameters: {'units': 122, 'learning_rate': 0.005624672328507601, 'optimizer': 'adam', 'l2_reg': 7.681577360270966e-05, 'batch_size': 32}. Best is trial 6 with value: 0.8285766556897183.\n",
            "<ipython-input-120-269bc7e5d13c>:9: FutureWarning: suggest_loguniform has been deprecated in v3.0.0. This feature will be removed in v6.0.0. See https://github.com/optuna/optuna/releases/tag/v3.0.0. Use suggest_float(..., log=True) instead.\n",
            "  l2_reg = trial.suggest_loguniform('l2_reg', 1e-5, 1e-1)\n"
          ]
        },
        {
          "name": "stdout",
          "output_type": "stream",
          "text": [
            "171/171 [==============================] - 1s 3ms/step\n"
          ]
        },
        {
          "name": "stderr",
          "output_type": "stream",
          "text": [
            "[I 2024-04-11 15:20:55,742] Trial 27 finished with value: 0.7861324551774607 and parameters: {'units': 223, 'learning_rate': 0.02335758005747258, 'optimizer': 'adam', 'l2_reg': 0.0008423918180262769, 'batch_size': 16}. Best is trial 6 with value: 0.8285766556897183.\n",
            "<ipython-input-120-269bc7e5d13c>:9: FutureWarning: suggest_loguniform has been deprecated in v3.0.0. This feature will be removed in v6.0.0. See https://github.com/optuna/optuna/releases/tag/v3.0.0. Use suggest_float(..., log=True) instead.\n",
            "  l2_reg = trial.suggest_loguniform('l2_reg', 1e-5, 1e-1)\n"
          ]
        },
        {
          "name": "stdout",
          "output_type": "stream",
          "text": [
            "171/171 [==============================] - 1s 3ms/step\n"
          ]
        },
        {
          "name": "stderr",
          "output_type": "stream",
          "text": [
            "[I 2024-04-11 15:22:21,452] Trial 28 finished with value: 0.8305890962312477 and parameters: {'units': 187, 'learning_rate': 0.003780186378825237, 'optimizer': 'nadam', 'l2_reg': 1.0912826975381359e-05, 'batch_size': 128}. Best is trial 28 with value: 0.8305890962312477.\n",
            "<ipython-input-120-269bc7e5d13c>:9: FutureWarning: suggest_loguniform has been deprecated in v3.0.0. This feature will be removed in v6.0.0. See https://github.com/optuna/optuna/releases/tag/v3.0.0. Use suggest_float(..., log=True) instead.\n",
            "  l2_reg = trial.suggest_loguniform('l2_reg', 1e-5, 1e-1)\n"
          ]
        },
        {
          "name": "stdout",
          "output_type": "stream",
          "text": [
            "171/171 [==============================] - 1s 3ms/step\n"
          ]
        },
        {
          "name": "stderr",
          "output_type": "stream",
          "text": [
            "[I 2024-04-11 15:23:18,018] Trial 29 finished with value: 0.818880351262349 and parameters: {'units': 144, 'learning_rate': 0.006930648343848503, 'optimizer': 'nadam', 'l2_reg': 0.00016558066932449348, 'batch_size': 128}. Best is trial 28 with value: 0.8305890962312477.\n",
            "<ipython-input-120-269bc7e5d13c>:9: FutureWarning: suggest_loguniform has been deprecated in v3.0.0. This feature will be removed in v6.0.0. See https://github.com/optuna/optuna/releases/tag/v3.0.0. Use suggest_float(..., log=True) instead.\n",
            "  l2_reg = trial.suggest_loguniform('l2_reg', 1e-5, 1e-1)\n"
          ]
        },
        {
          "name": "stdout",
          "output_type": "stream",
          "text": [
            "171/171 [==============================] - 1s 3ms/step\n"
          ]
        },
        {
          "name": "stderr",
          "output_type": "stream",
          "text": [
            "[I 2024-04-11 15:24:02,885] Trial 30 finished with value: 0.8282107574094402 and parameters: {'units': 100, 'learning_rate': 0.003974689411044659, 'optimizer': 'nadam', 'l2_reg': 3.8206766724720016e-05, 'batch_size': 128}. Best is trial 28 with value: 0.8305890962312477.\n",
            "<ipython-input-120-269bc7e5d13c>:9: FutureWarning: suggest_loguniform has been deprecated in v3.0.0. This feature will be removed in v6.0.0. See https://github.com/optuna/optuna/releases/tag/v3.0.0. Use suggest_float(..., log=True) instead.\n",
            "  l2_reg = trial.suggest_loguniform('l2_reg', 1e-5, 1e-1)\n"
          ]
        },
        {
          "name": "stdout",
          "output_type": "stream",
          "text": [
            "171/171 [==============================] - 1s 3ms/step\n"
          ]
        },
        {
          "name": "stderr",
          "output_type": "stream",
          "text": [
            "[I 2024-04-11 15:24:39,912] Trial 31 finished with value: 0.823271130625686 and parameters: {'units': 62, 'learning_rate': 0.004170813367962689, 'optimizer': 'nadam', 'l2_reg': 3.430818530631999e-05, 'batch_size': 128}. Best is trial 28 with value: 0.8305890962312477.\n",
            "<ipython-input-120-269bc7e5d13c>:9: FutureWarning: suggest_loguniform has been deprecated in v3.0.0. This feature will be removed in v6.0.0. See https://github.com/optuna/optuna/releases/tag/v3.0.0. Use suggest_float(..., log=True) instead.\n",
            "  l2_reg = trial.suggest_loguniform('l2_reg', 1e-5, 1e-1)\n"
          ]
        },
        {
          "name": "stdout",
          "output_type": "stream",
          "text": [
            "171/171 [==============================] - 1s 2ms/step\n"
          ]
        },
        {
          "name": "stderr",
          "output_type": "stream",
          "text": [
            "[I 2024-04-11 15:26:05,007] Trial 32 finished with value: 0.823088181485547 and parameters: {'units': 110, 'learning_rate': 0.002809896206989075, 'optimizer': 'nadam', 'l2_reg': 1.640623501918291e-05, 'batch_size': 128}. Best is trial 28 with value: 0.8305890962312477.\n",
            "<ipython-input-120-269bc7e5d13c>:9: FutureWarning: suggest_loguniform has been deprecated in v3.0.0. This feature will be removed in v6.0.0. See https://github.com/optuna/optuna/releases/tag/v3.0.0. Use suggest_float(..., log=True) instead.\n",
            "  l2_reg = trial.suggest_loguniform('l2_reg', 1e-5, 1e-1)\n"
          ]
        },
        {
          "name": "stdout",
          "output_type": "stream",
          "text": [
            "171/171 [==============================] - 1s 3ms/step\n"
          ]
        },
        {
          "name": "stderr",
          "output_type": "stream",
          "text": [
            "[I 2024-04-11 15:27:29,993] Trial 33 finished with value: 0.8216245883644346 and parameters: {'units': 187, 'learning_rate': 0.009707586560131742, 'optimizer': 'nadam', 'l2_reg': 6.828874440829813e-05, 'batch_size': 128}. Best is trial 28 with value: 0.8305890962312477.\n",
            "<ipython-input-120-269bc7e5d13c>:9: FutureWarning: suggest_loguniform has been deprecated in v3.0.0. This feature will be removed in v6.0.0. See https://github.com/optuna/optuna/releases/tag/v3.0.0. Use suggest_float(..., log=True) instead.\n",
            "  l2_reg = trial.suggest_loguniform('l2_reg', 1e-5, 1e-1)\n"
          ]
        },
        {
          "name": "stdout",
          "output_type": "stream",
          "text": [
            "171/171 [==============================] - 1s 3ms/step\n"
          ]
        },
        {
          "name": "stderr",
          "output_type": "stream",
          "text": [
            "[I 2024-04-11 15:28:14,011] Trial 34 finished with value: 0.8269301134284669 and parameters: {'units': 98, 'learning_rate': 0.002549680970588592, 'optimizer': 'nadam', 'l2_reg': 2.022568709400009e-05, 'batch_size': 128}. Best is trial 28 with value: 0.8305890962312477.\n",
            "<ipython-input-120-269bc7e5d13c>:9: FutureWarning: suggest_loguniform has been deprecated in v3.0.0. This feature will be removed in v6.0.0. See https://github.com/optuna/optuna/releases/tag/v3.0.0. Use suggest_float(..., log=True) instead.\n",
            "  l2_reg = trial.suggest_loguniform('l2_reg', 1e-5, 1e-1)\n"
          ]
        },
        {
          "name": "stdout",
          "output_type": "stream",
          "text": [
            "171/171 [==============================] - 1s 2ms/step\n"
          ]
        },
        {
          "name": "stderr",
          "output_type": "stream",
          "text": [
            "[I 2024-04-11 15:29:06,963] Trial 35 finished with value: 0.8163190633004025 and parameters: {'units': 136, 'learning_rate': 0.017292824066259826, 'optimizer': 'nadam', 'l2_reg': 0.000142044852735553, 'batch_size': 128}. Best is trial 28 with value: 0.8305890962312477.\n",
            "<ipython-input-120-269bc7e5d13c>:9: FutureWarning: suggest_loguniform has been deprecated in v3.0.0. This feature will be removed in v6.0.0. See https://github.com/optuna/optuna/releases/tag/v3.0.0. Use suggest_float(..., log=True) instead.\n",
            "  l2_reg = trial.suggest_loguniform('l2_reg', 1e-5, 1e-1)\n"
          ]
        },
        {
          "name": "stdout",
          "output_type": "stream",
          "text": [
            "171/171 [==============================] - 1s 5ms/step\n"
          ]
        },
        {
          "name": "stderr",
          "output_type": "stream",
          "text": [
            "[I 2024-04-11 15:31:32,702] Trial 36 finished with value: 0.823271130625686 and parameters: {'units': 242, 'learning_rate': 0.00034620445713104197, 'optimizer': 'nadam', 'l2_reg': 4.054558886576856e-05, 'batch_size': 64}. Best is trial 28 with value: 0.8305890962312477.\n",
            "<ipython-input-120-269bc7e5d13c>:9: FutureWarning: suggest_loguniform has been deprecated in v3.0.0. This feature will be removed in v6.0.0. See https://github.com/optuna/optuna/releases/tag/v3.0.0. Use suggest_float(..., log=True) instead.\n",
            "  l2_reg = trial.suggest_loguniform('l2_reg', 1e-5, 1e-1)\n"
          ]
        },
        {
          "name": "stdout",
          "output_type": "stream",
          "text": [
            "171/171 [==============================] - 1s 4ms/step\n"
          ]
        },
        {
          "name": "stderr",
          "output_type": "stream",
          "text": [
            "[I 2024-04-11 15:32:46,170] Trial 37 finished with value: 0.814123673618734 and parameters: {'units': 212, 'learning_rate': 0.041373896140532794, 'optimizer': 'nadam', 'l2_reg': 2.0985506299112447e-05, 'batch_size': 128}. Best is trial 28 with value: 0.8305890962312477.\n",
            "<ipython-input-120-269bc7e5d13c>:9: FutureWarning: suggest_loguniform has been deprecated in v3.0.0. This feature will be removed in v6.0.0. See https://github.com/optuna/optuna/releases/tag/v3.0.0. Use suggest_float(..., log=True) instead.\n",
            "  l2_reg = trial.suggest_loguniform('l2_reg', 1e-5, 1e-1)\n"
          ]
        },
        {
          "name": "stdout",
          "output_type": "stream",
          "text": [
            "171/171 [==============================] - 1s 2ms/step\n"
          ]
        },
        {
          "name": "stderr",
          "output_type": "stream",
          "text": [
            "[I 2024-04-11 15:33:31,413] Trial 38 finished with value: 0.7392974753018661 and parameters: {'units': 72, 'learning_rate': 0.0038766570147739945, 'optimizer': 'rmsprop', 'l2_reg': 0.07873083862526217, 'batch_size': 64}. Best is trial 28 with value: 0.8305890962312477.\n",
            "<ipython-input-120-269bc7e5d13c>:9: FutureWarning: suggest_loguniform has been deprecated in v3.0.0. This feature will be removed in v6.0.0. See https://github.com/optuna/optuna/releases/tag/v3.0.0. Use suggest_float(..., log=True) instead.\n",
            "  l2_reg = trial.suggest_loguniform('l2_reg', 1e-5, 1e-1)\n"
          ]
        },
        {
          "name": "stdout",
          "output_type": "stream",
          "text": [
            "171/171 [==============================] - 1s 3ms/step\n"
          ]
        },
        {
          "name": "stderr",
          "output_type": "stream",
          "text": [
            "[I 2024-04-11 15:34:56,559] Trial 39 finished with value: 0.8256494694474936 and parameters: {'units': 197, 'learning_rate': 0.008619789777396187, 'optimizer': 'nadam', 'l2_reg': 4.7173891655308694e-05, 'batch_size': 128}. Best is trial 28 with value: 0.8305890962312477.\n",
            "<ipython-input-120-269bc7e5d13c>:9: FutureWarning: suggest_loguniform has been deprecated in v3.0.0. This feature will be removed in v6.0.0. See https://github.com/optuna/optuna/releases/tag/v3.0.0. Use suggest_float(..., log=True) instead.\n",
            "  l2_reg = trial.suggest_loguniform('l2_reg', 1e-5, 1e-1)\n"
          ]
        },
        {
          "name": "stdout",
          "output_type": "stream",
          "text": [
            "171/171 [==============================] - 1s 2ms/step\n"
          ]
        },
        {
          "name": "stderr",
          "output_type": "stream",
          "text": [
            "[I 2024-04-11 15:36:21,544] Trial 40 finished with value: 0.8192462495426271 and parameters: {'units': 135, 'learning_rate': 0.0017253342306596798, 'optimizer': 'nadam', 'l2_reg': 0.00027976689990510343, 'batch_size': 128}. Best is trial 28 with value: 0.8305890962312477.\n",
            "<ipython-input-120-269bc7e5d13c>:9: FutureWarning: suggest_loguniform has been deprecated in v3.0.0. This feature will be removed in v6.0.0. See https://github.com/optuna/optuna/releases/tag/v3.0.0. Use suggest_float(..., log=True) instead.\n",
            "  l2_reg = trial.suggest_loguniform('l2_reg', 1e-5, 1e-1)\n"
          ]
        },
        {
          "name": "stdout",
          "output_type": "stream",
          "text": [
            "171/171 [==============================] - 1s 2ms/step\n"
          ]
        },
        {
          "name": "stderr",
          "output_type": "stream",
          "text": [
            "[I 2024-04-11 15:37:04,646] Trial 41 finished with value: 0.8247347237467983 and parameters: {'units': 97, 'learning_rate': 0.0026600125130427674, 'optimizer': 'nadam', 'l2_reg': 1.825001773801134e-05, 'batch_size': 128}. Best is trial 28 with value: 0.8305890962312477.\n",
            "<ipython-input-120-269bc7e5d13c>:9: FutureWarning: suggest_loguniform has been deprecated in v3.0.0. This feature will be removed in v6.0.0. See https://github.com/optuna/optuna/releases/tag/v3.0.0. Use suggest_float(..., log=True) instead.\n",
            "  l2_reg = trial.suggest_loguniform('l2_reg', 1e-5, 1e-1)\n"
          ]
        },
        {
          "name": "stdout",
          "output_type": "stream",
          "text": [
            "171/171 [==============================] - 1s 2ms/step\n"
          ]
        },
        {
          "name": "stderr",
          "output_type": "stream",
          "text": [
            "[I 2024-04-11 15:37:49,187] Trial 42 finished with value: 0.8251006220270765 and parameters: {'units': 100, 'learning_rate': 0.013822659146222037, 'optimizer': 'nadam', 'l2_reg': 1.5475444087823494e-05, 'batch_size': 128}. Best is trial 28 with value: 0.8305890962312477.\n",
            "<ipython-input-120-269bc7e5d13c>:9: FutureWarning: suggest_loguniform has been deprecated in v3.0.0. This feature will be removed in v6.0.0. See https://github.com/optuna/optuna/releases/tag/v3.0.0. Use suggest_float(..., log=True) instead.\n",
            "  l2_reg = trial.suggest_loguniform('l2_reg', 1e-5, 1e-1)\n"
          ]
        },
        {
          "name": "stdout",
          "output_type": "stream",
          "text": [
            "171/171 [==============================] - 1s 2ms/step\n"
          ]
        },
        {
          "name": "stderr",
          "output_type": "stream",
          "text": [
            "[I 2024-04-11 15:38:33,605] Trial 43 finished with value: 0.818880351262349 and parameters: {'units': 82, 'learning_rate': 0.0010243278523108254, 'optimizer': 'nadam', 'l2_reg': 0.00010303951740502722, 'batch_size': 128}. Best is trial 28 with value: 0.8305890962312477.\n",
            "<ipython-input-120-269bc7e5d13c>:9: FutureWarning: suggest_loguniform has been deprecated in v3.0.0. This feature will be removed in v6.0.0. See https://github.com/optuna/optuna/releases/tag/v3.0.0. Use suggest_float(..., log=True) instead.\n",
            "  l2_reg = trial.suggest_loguniform('l2_reg', 1e-5, 1e-1)\n"
          ]
        },
        {
          "name": "stdout",
          "output_type": "stream",
          "text": [
            "171/171 [==============================] - 1s 3ms/step\n"
          ]
        },
        {
          "name": "stderr",
          "output_type": "stream",
          "text": [
            "[I 2024-04-11 15:39:02,543] Trial 44 finished with value: 0.8168679107208197 and parameters: {'units': 49, 'learning_rate': 0.0036379763915879997, 'optimizer': 'nadam', 'l2_reg': 2.484402115722592e-05, 'batch_size': 128}. Best is trial 28 with value: 0.8305890962312477.\n",
            "<ipython-input-120-269bc7e5d13c>:9: FutureWarning: suggest_loguniform has been deprecated in v3.0.0. This feature will be removed in v6.0.0. See https://github.com/optuna/optuna/releases/tag/v3.0.0. Use suggest_float(..., log=True) instead.\n",
            "  l2_reg = trial.suggest_loguniform('l2_reg', 1e-5, 1e-1)\n"
          ]
        },
        {
          "name": "stdout",
          "output_type": "stream",
          "text": [
            "171/171 [==============================] - 1s 4ms/step\n"
          ]
        },
        {
          "name": "stderr",
          "output_type": "stream",
          "text": [
            "[I 2024-04-11 15:41:28,270] Trial 45 finished with value: 0.8260153677277717 and parameters: {'units': 164, 'learning_rate': 0.006365837241751403, 'optimizer': 'nadam', 'l2_reg': 4.8822377935438385e-05, 'batch_size': 64}. Best is trial 28 with value: 0.8305890962312477.\n",
            "<ipython-input-120-269bc7e5d13c>:9: FutureWarning: suggest_loguniform has been deprecated in v3.0.0. This feature will be removed in v6.0.0. See https://github.com/optuna/optuna/releases/tag/v3.0.0. Use suggest_float(..., log=True) instead.\n",
            "  l2_reg = trial.suggest_loguniform('l2_reg', 1e-5, 1e-1)\n"
          ]
        },
        {
          "name": "stdout",
          "output_type": "stream",
          "text": [
            "171/171 [==============================] - 1s 2ms/step\n"
          ]
        },
        {
          "name": "stderr",
          "output_type": "stream",
          "text": [
            "[I 2024-04-11 15:44:52,735] Trial 46 finished with value: 0.8095499451152579 and parameters: {'units': 107, 'learning_rate': 0.0020417069012008764, 'optimizer': 'rmsprop', 'l2_reg': 1.3444093539695589e-05, 'batch_size': 16}. Best is trial 28 with value: 0.8305890962312477.\n",
            "<ipython-input-120-269bc7e5d13c>:9: FutureWarning: suggest_loguniform has been deprecated in v3.0.0. This feature will be removed in v6.0.0. See https://github.com/optuna/optuna/releases/tag/v3.0.0. Use suggest_float(..., log=True) instead.\n",
            "  l2_reg = trial.suggest_loguniform('l2_reg', 1e-5, 1e-1)\n"
          ]
        },
        {
          "name": "stdout",
          "output_type": "stream",
          "text": [
            "171/171 [==============================] - 1s 3ms/step\n"
          ]
        },
        {
          "name": "stderr",
          "output_type": "stream",
          "text": [
            "[I 2024-04-11 15:45:53,479] Trial 47 finished with value: 0.8210757409440176 and parameters: {'units': 156, 'learning_rate': 0.0012711495558399243, 'optimizer': 'nadam', 'l2_reg': 0.00011378185275165476, 'batch_size': 128}. Best is trial 28 with value: 0.8305890962312477.\n",
            "<ipython-input-120-269bc7e5d13c>:9: FutureWarning: suggest_loguniform has been deprecated in v3.0.0. This feature will be removed in v6.0.0. See https://github.com/optuna/optuna/releases/tag/v3.0.0. Use suggest_float(..., log=True) instead.\n",
            "  l2_reg = trial.suggest_loguniform('l2_reg', 1e-5, 1e-1)\n"
          ]
        },
        {
          "name": "stdout",
          "output_type": "stream",
          "text": [
            "171/171 [==============================] - 1s 3ms/step\n"
          ]
        },
        {
          "name": "stderr",
          "output_type": "stream",
          "text": [
            "[I 2024-04-11 15:47:20,667] Trial 48 finished with value: 0.7954628613245518 and parameters: {'units': 245, 'learning_rate': 0.00045351419090870597, 'optimizer': 'nadam', 'l2_reg': 0.01673649490721122, 'batch_size': 128}. Best is trial 28 with value: 0.8305890962312477.\n",
            "<ipython-input-120-269bc7e5d13c>:9: FutureWarning: suggest_loguniform has been deprecated in v3.0.0. This feature will be removed in v6.0.0. See https://github.com/optuna/optuna/releases/tag/v3.0.0. Use suggest_float(..., log=True) instead.\n",
            "  l2_reg = trial.suggest_loguniform('l2_reg', 1e-5, 1e-1)\n"
          ]
        },
        {
          "name": "stdout",
          "output_type": "stream",
          "text": [
            "171/171 [==============================] - 1s 2ms/step\n"
          ]
        },
        {
          "name": "stderr",
          "output_type": "stream",
          "text": [
            "[I 2024-04-11 15:48:46,459] Trial 49 finished with value: 0.8194291986827662 and parameters: {'units': 88, 'learning_rate': 0.0008453226342550904, 'optimizer': 'rmsprop', 'l2_reg': 0.0008048340948763305, 'batch_size': 32}. Best is trial 28 with value: 0.8305890962312477.\n"
          ]
        },
        {
          "name": "stdout",
          "output_type": "stream",
          "text": [
            "Best Hyperparameters:\n",
            "units: 187\n",
            "learning_rate: 0.003780186378825237\n",
            "optimizer: nadam\n",
            "l2_reg: 1.0912826975381359e-05\n",
            "batch_size: 128\n",
            "Best Accuracy: 0.83\n"
          ]
        }
      ],
      "source": [
        "# Define the study name and storage location\n",
        "study_name = \"LSTM_hypertune\"\n",
        "storage = \"sqlite:///LSTM_hypertune.db\"\n",
        "study = optuna.create_study(direction='maximize', study_name=study_name, storage=storage)\n",
        "study.optimize(objective, n_trials=50)\n",
        "\n",
        "# Get the best hyperparameters and their performance\n",
        "best_params = study.best_params\n",
        "best_accuracy = study.best_value\n",
        "\n",
        "print(\"Best Hyperparameters:\")\n",
        "for key, value in best_params.items():\n",
        "    print(f\"{key}: {value}\")\n",
        "\n",
        "print(f\"Best Accuracy: {best_accuracy:.2f}\")"
      ]
    },
    {
      "cell_type": "code",
      "execution_count": null,
      "metadata": {
        "colab": {
          "base_uri": "https://localhost:8080/"
        },
        "id": "WK5HEoG3dak-",
        "outputId": "68c3815b-b676-484d-8933-7a997e3a8ff1"
      },
      "outputs": [
        {
          "name": "stdout",
          "output_type": "stream",
          "text": [
            "Epoch 1/20\n",
            "384/384 [==============================] - 6s 7ms/step - loss: 0.5910 - accuracy: 0.7500 - val_loss: 0.4698 - val_accuracy: 0.8050\n",
            "Epoch 2/20\n",
            "384/384 [==============================] - 1s 4ms/step - loss: 0.4569 - accuracy: 0.8015 - val_loss: 0.4344 - val_accuracy: 0.8149\n",
            "Epoch 3/20\n",
            "384/384 [==============================] - 1s 3ms/step - loss: 0.4326 - accuracy: 0.8095 - val_loss: 0.4206 - val_accuracy: 0.8154\n",
            "Epoch 4/20\n",
            "384/384 [==============================] - 2s 4ms/step - loss: 0.4215 - accuracy: 0.8123 - val_loss: 0.4100 - val_accuracy: 0.8213\n",
            "Epoch 5/20\n",
            "384/384 [==============================] - 2s 6ms/step - loss: 0.4152 - accuracy: 0.8152 - val_loss: 0.4104 - val_accuracy: 0.8169\n",
            "Epoch 6/20\n",
            "384/384 [==============================] - 1s 3ms/step - loss: 0.4109 - accuracy: 0.8153 - val_loss: 0.4066 - val_accuracy: 0.8208\n",
            "Epoch 7/20\n",
            "384/384 [==============================] - 1s 4ms/step - loss: 0.4085 - accuracy: 0.8157 - val_loss: 0.4038 - val_accuracy: 0.8188\n",
            "Epoch 8/20\n",
            "384/384 [==============================] - 1s 3ms/step - loss: 0.4060 - accuracy: 0.8160 - val_loss: 0.4020 - val_accuracy: 0.8202\n",
            "Epoch 9/20\n",
            "384/384 [==============================] - 1s 4ms/step - loss: 0.4034 - accuracy: 0.8165 - val_loss: 0.3998 - val_accuracy: 0.8208\n",
            "Epoch 10/20\n",
            "384/384 [==============================] - 1s 3ms/step - loss: 0.4026 - accuracy: 0.8189 - val_loss: 0.3984 - val_accuracy: 0.8226\n",
            "Epoch 11/20\n",
            "384/384 [==============================] - 1s 3ms/step - loss: 0.4010 - accuracy: 0.8176 - val_loss: 0.4011 - val_accuracy: 0.8172\n",
            "Epoch 12/20\n",
            "384/384 [==============================] - 1s 3ms/step - loss: 0.4007 - accuracy: 0.8185 - val_loss: 0.4011 - val_accuracy: 0.8221\n",
            "Epoch 13/20\n",
            "384/384 [==============================] - 2s 5ms/step - loss: 0.3997 - accuracy: 0.8185 - val_loss: 0.3987 - val_accuracy: 0.8175\n",
            "Epoch 14/20\n",
            "384/384 [==============================] - 2s 5ms/step - loss: 0.3991 - accuracy: 0.8183 - val_loss: 0.3957 - val_accuracy: 0.8231\n",
            "Epoch 15/20\n",
            "384/384 [==============================] - 1s 3ms/step - loss: 0.3979 - accuracy: 0.8192 - val_loss: 0.3952 - val_accuracy: 0.8226\n",
            "Epoch 16/20\n",
            "384/384 [==============================] - 1s 3ms/step - loss: 0.3979 - accuracy: 0.8182 - val_loss: 0.3953 - val_accuracy: 0.8242\n",
            "Epoch 17/20\n",
            "384/384 [==============================] - 1s 3ms/step - loss: 0.3972 - accuracy: 0.8183 - val_loss: 0.3948 - val_accuracy: 0.8182\n",
            "Epoch 18/20\n",
            "384/384 [==============================] - 2s 5ms/step - loss: 0.3969 - accuracy: 0.8185 - val_loss: 0.3999 - val_accuracy: 0.8218\n",
            "Epoch 19/20\n",
            "384/384 [==============================] - 2s 5ms/step - loss: 0.3963 - accuracy: 0.8197 - val_loss: 0.3972 - val_accuracy: 0.8146\n",
            "Epoch 20/20\n",
            "384/384 [==============================] - 3s 7ms/step - loss: 0.3959 - accuracy: 0.8187 - val_loss: 0.3975 - val_accuracy: 0.8237\n"
          ]
        }
      ],
      "source": [
        "from tensorflow.keras.models import Sequential\n",
        "from tensorflow.keras.layers import LSTM, Dense, Reshape\n",
        "\n",
        "num_features = X_processed.shape[1]\n",
        "input_shape = (num_features,) \n",
        "\n",
        "hyper_model = Sequential([\n",
        "   \n",
        "    Reshape((1, num_features), input_shape=input_shape),\n",
        "    LSTM(187, activation='relu', kernel_regularizer=regularizers.l2(1.0912826975381359e-05)),\n",
        "    Dense(3, activation='softmax')  # Assuming a classification task with 3 classes\n",
        "])\n",
        "\n",
        "# Compile the model\n",
        "hyper_model.compile(optimizer=tf.keras.optimizers.Nadam(learning_rate=0.003780186378825237),\n",
        "              loss=tf.keras.losses.SparseCategoricalCrossentropy(),\n",
        "              metrics=['accuracy'])\n",
        "\n",
        "history = hyper_model.fit(X_train, y_train, validation_data=(X_val, y_val), batch_size=128, epochs=20)"
      ]
    },
    {
      "cell_type": "code",
      "execution_count": null,
      "metadata": {
        "colab": {
          "base_uri": "https://localhost:8080/"
        },
        "id": "I2PE4b5dUHlO",
        "outputId": "da03963e-eaaf-47f8-c732-9e2e5765ad4f"
      },
      "outputs": [
        {
          "name": "stdout",
          "output_type": "stream",
          "text": [
            "192/192 [==============================] - 0s 2ms/step - loss: 0.3975 - accuracy: 0.8237\n",
            "Accuracy: 82.37%\n"
          ]
        }
      ],
      "source": [
        "_, accuracy = hyper_model.evaluate(X_test, y_test)\n",
        "\n",
        "print(f\"Accuracy: {accuracy * 100:.2f}%\")"
      ]
    },
    {
      "cell_type": "code",
      "execution_count": null,
      "metadata": {
        "colab": {
          "base_uri": "https://localhost:8080/",
          "height": 472
        },
        "id": "5WbXaiN_Mcvb",
        "outputId": "93e775f6-8019-4770-fe0e-80a5db7098b5"
      },
      "outputs": [
        {
          "data": {
            "image/png": "[encoded data removed]",
            "text/plain": [
              "<Figure size 640x480 with 1 Axes>"
            ]
          },
          "metadata": {},
          "output_type": "display_data"
        }
      ],
      "source": [
        "# Get the accuracy values from the training history\n",
        "accuracy = history.history['accuracy']\n",
        "val_accuracy = history.history['val_accuracy']\n",
        "\n",
        "# Plot the accuracy graph\n",
        "epochs = range(1, len(accuracy) + 1)\n",
        "plt.plot(epochs, accuracy, 'b', label='Training Accuracy')\n",
        "plt.plot(epochs, val_accuracy, 'r', label='Validation Accuracy')\n",
        "plt.title('Training and Validation Accuracy')\n",
        "plt.xlabel('Epochs')\n",
        "plt.ylabel('Accuracy')\n",
        "plt.legend()\n",
        "plt.show()"
      ]
    },
    {
      "cell_type": "code",
      "execution_count": null,
      "metadata": {
        "colab": {
          "base_uri": "https://localhost:8080/",
          "height": 489
        },
        "id": "bn5wcQTnUgsQ",
        "outputId": "cf5c40fe-a001-40c6-a3ff-8ebbe9d5ea80"
      },
      "outputs": [
        {
          "name": "stdout",
          "output_type": "stream",
          "text": [
            "192/192 [==============================] - 0s 2ms/step\n"
          ]
        },
        {
          "data": {
            "image/png": "[encoded data removed]",
            "text/plain": [
              "<Figure size 640x480 with 2 Axes>"
            ]
          },
          "metadata": {},
          "output_type": "display_data"
        }
      ],
      "source": [
        "from sklearn.metrics import confusion_matrix\n",
        "import numpy as np\n",
        "import seaborn as sns\n",
        "import matplotlib.pyplot as plt\n",
        "#hard = 0 , med = 1 , soft = 2\n",
        "# Make predictions on the validation set\n",
        "y_val_pred_prob = hyper_model.predict(X_test)\n",
        "y_val_pred = np.argmax(y_val_pred_prob, axis=1)\n",
        "\n",
        "# Create a confusion matrix\n",
        "cm = confusion_matrix(y_test, y_val_pred)\n",
        "\n",
        "# Plot the confusion matrix using seaborn\n",
        "labels = np.unique(y_test)\n",
        "sns.heatmap(cm, annot=True, cmap='Blues', fmt='d', xticklabels=labels, yticklabels=labels)\n",
        "\n",
        "# Add labels and title to the plot\n",
        "plt.xlabel('Predicted')\n",
        "plt.ylabel('Actual')\n",
        "plt.title('Confusion Matrix')\n",
        "\n",
        "# Display the plot\n",
        "plt.show()"
      ]
    },
    {
      "cell_type": "code",
      "execution_count": null,
      "metadata": {
        "colab": {
          "base_uri": "https://localhost:8080/",
          "height": 472
        },
        "id": "thDuFj4RN0c2",
        "outputId": "d418a397-5967-4982-9968-405e40bfd075"
      },
      "outputs": [
        {
          "data": {
            "image/png": "[encoded data removed]",
            "text/plain": [
              "<Figure size 640x480 with 1 Axes>"
            ]
          },
          "metadata": {},
          "output_type": "display_data"
        }
      ],
      "source": [
        "loss = history.history['loss']\n",
        "epochs = range(1, len(loss) + 1)  # Epochs count\n",
        "\n",
        "# Plotting the training loss\n",
        "plt.plot(epochs, history.history['loss'], label='Training Loss')\n",
        "plt.plot(epochs, history.history['val_loss'], label='Validation Loss')\n",
        "\n",
        "plt.title('Loss per Epoch')  # Title of the plot\n",
        "plt.xlabel('Epochs')  # X-axis label\n",
        "plt.ylabel('Loss')  # Y-axis label\n",
        "plt.legend()  # Adding a legend to distinguish training vs. validation\n",
        "\n",
        "plt.show()  # Display the plot"
      ]
    },
    {
      "cell_type": "code",
      "execution_count": null,
      "metadata": {
        "colab": {
          "base_uri": "https://localhost:8080/"
        },
        "id": "XH_vMD4AUk0Z",
        "outputId": "d0eda8cf-4a5a-4cbf-99de-efef357f7879"
      },
      "outputs": [
        {
          "name": "stdout",
          "output_type": "stream",
          "text": [
            "192/192 [==============================] - 0s 2ms/step\n",
            "Average Test Accuracy: 0.8237404206750367\n",
            "Average Test Precision: 0.7566805843916554\n",
            "Average Test Recall: 0.7308421570744338\n",
            "Average Test F1 Score: 0.7395279826266096\n"
          ]
        }
      ],
      "source": [
        "from sklearn.metrics import accuracy_score, precision_score, recall_score, f1_score\n",
        "y_test_pred_prob = hyper_model.predict(X_test)\n",
        "\n",
        "# Convert predicted probabilities to predicted labels\n",
        "y_test_pred = np.argmax(y_test_pred_prob, axis=1)\n",
        "\n",
        "# Calculate evaluation metrics for the test set\n",
        "test_accuracy = accuracy_score(y_test, y_test_pred)\n",
        "test_precision = precision_score(y_test, y_test_pred, average='macro', zero_division=0)\n",
        "test_recall = recall_score(y_test, y_test_pred, average='macro')\n",
        "test_f1 = f1_score(y_test, y_test_pred, average='macro')\n",
        "\n",
        "# Calculate and print the average evaluation metrics for the test set\n",
        "print('Average Test Accuracy:', np.mean(test_accuracy))\n",
        "print('Average Test Precision:', np.mean(test_precision))\n",
        "print('Average Test Recall:', np.mean(test_recall))\n",
        "print('Average Test F1 Score:', np.mean(test_f1))"
      ]
    }
  ],
  "metadata": {
    "colab": {
      "provenance": []
    },
    "kernelspec": {
      "display_name": "Python 3",
      "name": "python3"
    },
    "language_info": {
      "name": "python"
    }
  },
  "nbformat": 4,
  "nbformat_minor": 0
}
