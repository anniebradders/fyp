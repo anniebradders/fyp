{
  "nbformat": 4,
  "nbformat_minor": 0,
  "metadata": {
    "colab": {
      "provenance": []
    },
    "kernelspec": {
      "name": "python3",
      "display_name": "Python 3"
    },
    "language_info": {
      "name": "python"
    }
  },
  "cells": [
    {
      "cell_type": "markdown",
      "source": [
        "#LSTM Model"
      ],
      "metadata": {
        "id": "kAo1aKGTFP36"
      }
    },
    {
      "cell_type": "code",
      "source": [
        "from tensorflow.keras.models import Sequential\n",
        "from tensorflow.keras.layers import LSTM, Dense, Reshape\n",
        "\n",
        "# Assuming the number of features in your processed data is 29\n",
        "num_features = X_processed.shape[1]  # For example, 29 features\n",
        "input_shape = (num_features,)  # Original input shape for dense model\n",
        "\n",
        "LSTM_model = Sequential([\n",
        "    # Reshape layer added to reshape input to (1, num_features) for LSTM\n",
        "    Reshape((1, num_features), input_shape=input_shape),\n",
        "    LSTM(32, activation='relu'),\n",
        "    Dense(3, activation='softmax')  # Assuming a classification task with 3 classes\n",
        "])\n",
        "\n",
        "# Compile the model\n",
        "LSTM_model.compile(optimizer='adam', loss='sparse_categorical_crossentropy', metrics=['accuracy'])\n",
        "\n",
        "# Model summary to check architecture\n",
        "LSTM_model.summary()\n"
      ],
      "metadata": {
        "id": "Piu9luNhGAdJ",
        "colab": {
          "base_uri": "https://localhost:8080/"
        },
        "outputId": "2b90dc9a-c13d-4b63-d900-ae3732d0b842"
      },
      "execution_count": null,
      "outputs": [
        {
          "output_type": "stream",
          "name": "stdout",
          "text": [
            "Model: \"sequential_54\"\n",
            "_________________________________________________________________\n",
            " Layer (type)                Output Shape              Param #   \n",
            "=================================================================\n",
            " reshape_1 (Reshape)         (None, 1, 29)             0         \n",
            "                                                                 \n",
            " lstm (LSTM)                 (None, 32)                7936      \n",
            "                                                                 \n",
            " dense_112 (Dense)           (None, 3)                 99        \n",
            "                                                                 \n",
            "=================================================================\n",
            "Total params: 8035 (31.39 KB)\n",
            "Trainable params: 8035 (31.39 KB)\n",
            "Non-trainable params: 0 (0.00 Byte)\n",
            "_________________________________________________________________\n"
          ]
        }
      ]
    },
    {
      "cell_type": "code",
      "source": [
        "history = LSTM_model.fit(X_train, y_train, validation_data=(X_val, y_val), epochs=10, batch_size=32)"
      ],
      "metadata": {
        "id": "2lUUrI2pGru3",
        "colab": {
          "base_uri": "https://localhost:8080/"
        },
        "outputId": "51255283-bcba-48c9-8fbf-70e0853a81d9"
      },
      "execution_count": null,
      "outputs": [
        {
          "output_type": "stream",
          "name": "stdout",
          "text": [
            "Epoch 1/10\n",
            "1725/1725 [==============================] - 8s 4ms/step - loss: 0.6385 - accuracy: 0.7290 - val_loss: 0.5587 - val_accuracy: 0.7478\n",
            "Epoch 2/10\n",
            "1725/1725 [==============================] - 5s 3ms/step - loss: 0.5463 - accuracy: 0.7545 - val_loss: 0.5343 - val_accuracy: 0.7543\n",
            "Epoch 3/10\n",
            "1725/1725 [==============================] - 5s 3ms/step - loss: 0.5320 - accuracy: 0.7574 - val_loss: 0.5283 - val_accuracy: 0.7540\n",
            "Epoch 4/10\n",
            "1725/1725 [==============================] - 6s 3ms/step - loss: 0.5261 - accuracy: 0.7589 - val_loss: 0.5217 - val_accuracy: 0.7569\n",
            "Epoch 5/10\n",
            "1725/1725 [==============================] - 5s 3ms/step - loss: 0.5226 - accuracy: 0.7599 - val_loss: 0.5183 - val_accuracy: 0.7611\n",
            "Epoch 6/10\n",
            "1725/1725 [==============================] - 6s 4ms/step - loss: 0.5206 - accuracy: 0.7605 - val_loss: 0.5174 - val_accuracy: 0.7533\n",
            "Epoch 7/10\n",
            "1725/1725 [==============================] - 5s 3ms/step - loss: 0.5190 - accuracy: 0.7600 - val_loss: 0.5147 - val_accuracy: 0.7592\n",
            "Epoch 8/10\n",
            "1725/1725 [==============================] - 6s 4ms/step - loss: 0.5176 - accuracy: 0.7619 - val_loss: 0.5133 - val_accuracy: 0.7610\n",
            "Epoch 9/10\n",
            "1725/1725 [==============================] - 5s 3ms/step - loss: 0.5166 - accuracy: 0.7611 - val_loss: 0.5136 - val_accuracy: 0.7588\n",
            "Epoch 10/10\n",
            "1725/1725 [==============================] - 5s 3ms/step - loss: 0.5155 - accuracy: 0.7610 - val_loss: 0.5118 - val_accuracy: 0.7618\n"
          ]
        }
      ]
    },
    {
      "cell_type": "code",
      "source": [
        "LSTM_model.save('LSTM_model.h5')"
      ],
      "metadata": {
        "colab": {
          "base_uri": "https://localhost:8080/"
        },
        "id": "caQxbpLMSqKt",
        "outputId": "6d0faf12-8180-4278-e823-ef589807e93f"
      },
      "execution_count": null,
      "outputs": [
        {
          "output_type": "stream",
          "name": "stderr",
          "text": [
            "/usr/local/lib/python3.10/dist-packages/keras/src/engine/training.py:3103: UserWarning: You are saving your model as an HDF5 file via `model.save()`. This file format is considered legacy. We recommend using instead the native Keras format, e.g. `model.save('my_model.keras')`.\n",
            "  saving_api.save_model(\n"
          ]
        }
      ]
    },
    {
      "cell_type": "code",
      "source": [
        "from google.colab import files\n",
        "files.download('LSTM_model.h5')"
      ],
      "metadata": {
        "colab": {
          "base_uri": "https://localhost:8080/",
          "height": 17
        },
        "id": "CGIIlIIwStWQ",
        "outputId": "33629cce-e79e-44af-d89d-11c1c99a64c4"
      },
      "execution_count": null,
      "outputs": [
        {
          "output_type": "display_data",
          "data": {
            "text/plain": [
              "<IPython.core.display.Javascript object>"
            ],
            "application/javascript": [
              "\n",
              "    async function download(id, filename, size) {\n",
              "      if (!google.colab.kernel.accessAllowed) {\n",
              "        return;\n",
              "      }\n",
              "      const div = document.createElement('div');\n",
              "      const label = document.createElement('label');\n",
              "      label.textContent = `Downloading \"${filename}\": `;\n",
              "      div.appendChild(label);\n",
              "      const progress = document.createElement('progress');\n",
              "      progress.max = size;\n",
              "      div.appendChild(progress);\n",
              "      document.body.appendChild(div);\n",
              "\n",
              "      const buffers = [];\n",
              "      let downloaded = 0;\n",
              "\n",
              "      const channel = await google.colab.kernel.comms.open(id);\n",
              "      // Send a message to notify the kernel that we're ready.\n",
              "      channel.send({})\n",
              "\n",
              "      for await (const message of channel.messages) {\n",
              "        // Send a message to notify the kernel that we're ready.\n",
              "        channel.send({})\n",
              "        if (message.buffers) {\n",
              "          for (const buffer of message.buffers) {\n",
              "            buffers.push(buffer);\n",
              "            downloaded += buffer.byteLength;\n",
              "            progress.value = downloaded;\n",
              "          }\n",
              "        }\n",
              "      }\n",
              "      const blob = new Blob(buffers, {type: 'application/binary'});\n",
              "      const a = document.createElement('a');\n",
              "      a.href = window.URL.createObjectURL(blob);\n",
              "      a.download = filename;\n",
              "      div.appendChild(a);\n",
              "      a.click();\n",
              "      div.remove();\n",
              "    }\n",
              "  "
            ]
          },
          "metadata": {}
        },
        {
          "output_type": "display_data",
          "data": {
            "text/plain": [
              "<IPython.core.display.Javascript object>"
            ],
            "application/javascript": [
              "download(\"download_4dda8b2d-01b7-4215-9b54-927115876d51\", \"LSTM_model.h5\", 126880)"
            ]
          },
          "metadata": {}
        }
      ]
    },
    {
      "cell_type": "code",
      "source": [
        "LSTM_model.evaluate(X_val, y_val)"
      ],
      "metadata": {
        "id": "7cwKAfGTG8oE",
        "colab": {
          "base_uri": "https://localhost:8080/"
        },
        "outputId": "8e4f4197-ed3e-4460-e9cd-f3eb6a270ea2"
      },
      "execution_count": null,
      "outputs": [
        {
          "output_type": "stream",
          "name": "stdout",
          "text": [
            "192/192 [==============================] - 0s 2ms/step - loss: 0.5118 - accuracy: 0.7618\n"
          ]
        },
        {
          "output_type": "execute_result",
          "data": {
            "text/plain": [
              "[0.5117838978767395, 0.7617805600166321]"
            ]
          },
          "metadata": {},
          "execution_count": 47
        }
      ]
    },
    {
      "cell_type": "code",
      "source": [
        "import numpy as np\n",
        "import seaborn as sns\n",
        "import matplotlib.pyplot as plt\n",
        "from sklearn.metrics import confusion_matrix\n",
        "\n",
        "#hard = 0 , med = 1 , soft = 2\n",
        "# Make predictions on the validation set\n",
        "y_val_pred_prob = LSTM_model.predict(X_val)\n",
        "y_val_pred = np.argmax(y_val_pred_prob, axis=1)\n",
        "\n",
        "# Create a confusion matrix\n",
        "cm = confusion_matrix(y_val, y_val_pred)\n",
        "\n",
        "# Plot the confusion matrix using seaborn\n",
        "labels = np.unique(y_val)\n",
        "sns.heatmap(cm, annot=True, cmap='Blues', fmt='d', xticklabels=labels, yticklabels=labels)\n",
        "\n",
        "# Add labels and title to the plot\n",
        "plt.xlabel('Predicted')\n",
        "plt.ylabel('Actual')\n",
        "plt.title('Confusion Matrix')\n",
        "\n",
        "# Display the plot\n",
        "plt.show()"
      ],
      "metadata": {
        "id": "O7QV1bmjHIj8",
        "colab": {
          "base_uri": "https://localhost:8080/",
          "height": 489
        },
        "outputId": "0e1bfede-96d8-4f55-8bed-7fd5b6cc48d5"
      },
      "execution_count": null,
      "outputs": [
        {
          "output_type": "stream",
          "name": "stdout",
          "text": [
            "192/192 [==============================] - 1s 2ms/step\n"
          ]
        },
        {
          "output_type": "display_data",
          "data": {
            "text/plain": [
              "<Figure size 640x480 with 2 Axes>"
            ],
            "image/png": "[encoded data removed]"
          },
          "metadata": {}
        }
      ]
    }
  ]
}