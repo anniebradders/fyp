{
  "cells": [
    {
      "cell_type": "markdown",
      "metadata": {
        "id": "f4GOcSvKrDz3"
      },
      "source": [
        "#CNN Model"
      ]
    },
    {
      "cell_type": "code",
      "execution_count": null,
      "metadata": {
        "id": "A_h4pXgbD54c"
      },
      "outputs": [],
      "source": [
        "CNN_check_point = tf.keras.callbacks.ModelCheckpoint(filepath=\"/content/CNN.x\",\n",
        "                                              monitor=\"val_accuracy\",\n",
        "                                              mode=\"max\",\n",
        "                                              save_best_only=True,\n",
        "                                              )"
      ]
    },
    {
      "cell_type": "code",
      "execution_count": null,
      "metadata": {
        "colab": {
          "base_uri": "https://localhost:8080/"
        },
        "id": "uBzOq4R1Dv8a",
        "outputId": "a5838bed-c11d-4957-b8e0-30bba9bbe750"
      },
      "outputs": [
        {
          "name": "stdout",
          "output_type": "stream",
          "text": [
            "Model: \"sequential_52\"\n",
            "_________________________________________________________________\n",
            " Layer (type)                Output Shape              Param #   \n",
            "=================================================================\n",
            " reshape (Reshape)           (None, 29, 1)             0         \n",
            "                                                                 \n",
            " conv1d (Conv1D)             (None, 27, 32)            128       \n",
            "                                                                 \n",
            " max_pooling1d (MaxPooling1  (None, 13, 32)            0         \n",
            " D)                                                              \n",
            "                                                                 \n",
            " conv1d_1 (Conv1D)           (None, 13, 64)            6208      \n",
            "                                                                 \n",
            " max_pooling1d_1 (MaxPoolin  (None, 6, 64)             0         \n",
            " g1D)                                                            \n",
            "                                                                 \n",
            " conv1d_2 (Conv1D)           (None, 6, 64)             12352     \n",
            "                                                                 \n",
            " max_pooling1d_2 (MaxPoolin  (None, 3, 64)             0         \n",
            " g1D)                                                            \n",
            "                                                                 \n",
            " conv1d_3 (Conv1D)           (None, 3, 128)            24704     \n",
            "                                                                 \n",
            " max_pooling1d_3 (MaxPoolin  (None, 1, 128)            0         \n",
            " g1D)                                                            \n",
            "                                                                 \n",
            " conv1d_4 (Conv1D)           (None, 1, 128)            49280     \n",
            "                                                                 \n",
            " flatten (Flatten)           (None, 128)               0         \n",
            "                                                                 \n",
            " dense_104 (Dense)           (None, 128)               16512     \n",
            "                                                                 \n",
            " dense_105 (Dense)           (None, 64)                8256      \n",
            "                                                                 \n",
            " dense_106 (Dense)           (None, 32)                2080      \n",
            "                                                                 \n",
            " dense_107 (Dense)           (None, 16)                528       \n",
            "                                                                 \n",
            " dense_108 (Dense)           (None, 8)                 136       \n",
            "                                                                 \n",
            " dense_109 (Dense)           (None, 3)                 27        \n",
            "                                                                 \n",
            "=================================================================\n",
            "Total params: 120211 (469.57 KB)\n",
            "Trainable params: 120211 (469.57 KB)\n",
            "Non-trainable params: 0 (0.00 Byte)\n",
            "_________________________________________________________________\n"
          ]
        }
      ],
      "source": [
        "import tensorflow as tf\n",
        "from tensorflow.keras.layers import Reshape\n",
        "\n",
        "num_features = X_processed.shape[1]  \n",
        "\n",
        "CNN_model = tf.keras.models.Sequential([\n",
        "    # Assuming the data is 1D, reshape it to have a 'channels' dimension for Conv1D\n",
        "    Reshape((num_features, 1), input_shape=(num_features,)),\n",
        "    tf.keras.layers.Conv1D(32, 3, activation='relu'),\n",
        "    tf.keras.layers.MaxPooling1D(2),\n",
        "    tf.keras.layers.Conv1D(64, 3, activation='relu', padding=\"same\"),\n",
        "    tf.keras.layers.MaxPooling1D(2),\n",
        "    tf.keras.layers.Conv1D(64, 3, activation='relu', padding=\"same\"),\n",
        "    tf.keras.layers.MaxPooling1D(2),\n",
        "    tf.keras.layers.Conv1D(128, 3, activation='relu', padding=\"same\"),\n",
        "    tf.keras.layers.MaxPooling1D(2),\n",
        "    tf.keras.layers.Conv1D(128, 3, activation='relu', padding=\"same\"),\n",
        "    tf.keras.layers.Flatten(),\n",
        "    tf.keras.layers.Dense(128, activation='relu'),\n",
        "    tf.keras.layers.Dense(64, activation='relu'),\n",
        "    tf.keras.layers.Dense(32, activation='relu'),\n",
        "    tf.keras.layers.Dense(16, activation='relu'),\n",
        "    tf.keras.layers.Dense(8, activation='relu'),\n",
        "    tf.keras.layers.Dense(3, activation='softmax')\n",
        "])\n",
        "\n",
        "CNN_model.build(input_shape=(None, num_features))  \n",
        "CNN_model.summary()\n"
      ]
    },
    {
      "cell_type": "code",
      "execution_count": null,
      "metadata": {
        "id": "7MkNlJj_Dxlj"
      },
      "outputs": [],
      "source": [
        "CNN_model.compile(loss='SparseCategoricalCrossentropy',\n",
        "              optimizer=tf.keras.optimizers.Adam(learning_rate=0.001),\n",
        "              metrics=['accuracy'])"
      ]
    },
    {
      "cell_type": "code",
      "execution_count": null,
      "metadata": {
        "colab": {
          "base_uri": "https://localhost:8080/"
        },
        "id": "HxpjMu_ID1pW",
        "outputId": "6688ec2d-5e9b-4939-9eb9-9766e2a047ef"
      },
      "outputs": [
        {
          "name": "stdout",
          "output_type": "stream",
          "text": [
            "Epoch 1/10\n",
            "1725/1725 [==============================] - 25s 13ms/step - loss: 0.6713 - accuracy: 0.6986 - val_loss: 0.6020 - val_accuracy: 0.7109\n",
            "Epoch 2/10\n",
            "1725/1725 [==============================] - 21s 12ms/step - loss: 0.6038 - accuracy: 0.7170 - val_loss: 0.5970 - val_accuracy: 0.7137\n",
            "Epoch 3/10\n",
            "1725/1725 [==============================] - 20s 12ms/step - loss: 0.5997 - accuracy: 0.7189 - val_loss: 0.5959 - val_accuracy: 0.7225\n",
            "Epoch 4/10\n",
            "1725/1725 [==============================] - 20s 11ms/step - loss: 0.5963 - accuracy: 0.7210 - val_loss: 0.5944 - val_accuracy: 0.7200\n",
            "Epoch 5/10\n",
            "1725/1725 [==============================] - 20s 11ms/step - loss: 0.5949 - accuracy: 0.7229 - val_loss: 0.5904 - val_accuracy: 0.7238\n",
            "Epoch 6/10\n",
            "1725/1725 [==============================] - 19s 11ms/step - loss: 0.5949 - accuracy: 0.7220 - val_loss: 0.5919 - val_accuracy: 0.7266\n",
            "Epoch 7/10\n",
            "1725/1725 [==============================] - 17s 10ms/step - loss: 0.5937 - accuracy: 0.7236 - val_loss: 0.5922 - val_accuracy: 0.7266\n",
            "Epoch 8/10\n",
            "1725/1725 [==============================] - 17s 10ms/step - loss: 0.5935 - accuracy: 0.7235 - val_loss: 0.5908 - val_accuracy: 0.7266\n",
            "Epoch 9/10\n",
            "1725/1725 [==============================] - 21s 12ms/step - loss: 0.5927 - accuracy: 0.7220 - val_loss: 0.5905 - val_accuracy: 0.7266\n",
            "Epoch 10/10\n",
            "1725/1725 [==============================] - 26s 15ms/step - loss: 0.5925 - accuracy: 0.7236 - val_loss: 0.5902 - val_accuracy: 0.7261\n"
          ]
        }
      ],
      "source": [
        "history = CNN_model.fit(X_train, y_train, validation_data=(X_val ,y_val), epochs=10, callbacks=[CNN_check_point])"
      ]
    },
    {
      "cell_type": "code",
      "execution_count": null,
      "metadata": {
        "colab": {
          "base_uri": "https://localhost:8080/"
        },
        "id": "YdLFXeIJSK3w",
        "outputId": "c1d4080a-0155-4298-f2fc-80ace69ac8a3"
      },
      "outputs": [
        {
          "name": "stderr",
          "output_type": "stream",
          "text": [
            "/usr/local/lib/python3.10/dist-packages/keras/src/engine/training.py:3103: UserWarning: You are saving your model as an HDF5 file via `model.save()`. This file format is considered legacy. We recommend using instead the native Keras format, e.g. `model.save('my_model.keras')`.\n",
            "  saving_api.save_model(\n"
          ]
        }
      ],
      "source": [
        "CNN_model.save('CNN_model.h5')"
      ]
    },
    {
      "cell_type": "code",
      "execution_count": null,
      "metadata": {
        "colab": {
          "base_uri": "https://localhost:8080/",
          "height": 17
        },
        "id": "3SNMGo9hSNGo",
        "outputId": "2d06f7cb-80bd-4b9c-fdc0-308887db430b"
      },
      "outputs": [
        {
          "data": {
            "application/javascript": "\n    async function download(id, filename, size) {\n      if (!google.colab.kernel.accessAllowed) {\n        return;\n      }\n      const div = document.createElement('div');\n      const label = document.createElement('label');\n      label.textContent = `Downloading \"${filename}\": `;\n      div.appendChild(label);\n      const progress = document.createElement('progress');\n      progress.max = size;\n      div.appendChild(progress);\n      document.body.appendChild(div);\n\n      const buffers = [];\n      let downloaded = 0;\n\n      const channel = await google.colab.kernel.comms.open(id);\n      // Send a message to notify the kernel that we're ready.\n      channel.send({})\n\n      for await (const message of channel.messages) {\n        // Send a message to notify the kernel that we're ready.\n        channel.send({})\n        if (message.buffers) {\n          for (const buffer of message.buffers) {\n            buffers.push(buffer);\n            downloaded += buffer.byteLength;\n            progress.value = downloaded;\n          }\n        }\n      }\n      const blob = new Blob(buffers, {type: 'application/binary'});\n      const a = document.createElement('a');\n      a.href = window.URL.createObjectURL(blob);\n      a.download = filename;\n      div.appendChild(a);\n      a.click();\n      div.remove();\n    }\n  ",
            "text/plain": [
              "<IPython.core.display.Javascript object>"
            ]
          },
          "metadata": {},
          "output_type": "display_data"
        },
        {
          "data": {
            "application/javascript": "download(\"download_cf359626-3150-4220-8035-3036113bcd7e\", \"CNN_model.h5\", 1540328)",
            "text/plain": [
              "<IPython.core.display.Javascript object>"
            ]
          },
          "metadata": {},
          "output_type": "display_data"
        }
      ],
      "source": [
        "from google.colab import files\n",
        "files.download('CNN_model.h5')"
      ]
    },
    {
      "cell_type": "code",
      "execution_count": null,
      "metadata": {
        "colab": {
          "base_uri": "https://localhost:8080/"
        },
        "id": "-U28a5A3E85O",
        "outputId": "72d0c7a8-0875-4bab-f2c1-84103359137b"
      },
      "outputs": [
        {
          "name": "stdout",
          "output_type": "stream",
          "text": [
            "192/192 [==============================] - 1s 4ms/step - loss: 0.5902 - accuracy: 0.7261\n"
          ]
        },
        {
          "data": {
            "text/plain": [
              "[0.5901719927787781, 0.7260720729827881]"
            ]
          },
          "execution_count": 34,
          "metadata": {},
          "output_type": "execute_result"
        }
      ],
      "source": [
        "CNN_model.evaluate(X_test, y_test)"
      ]
    },
    {
      "cell_type": "code",
      "execution_count": null,
      "metadata": {
        "colab": {
          "base_uri": "https://localhost:8080/",
          "height": 489
        },
        "id": "1F6z-1iXFDlS",
        "outputId": "790bd437-61cc-4210-a82f-36d1acd880af"
      },
      "outputs": [
        {
          "name": "stdout",
          "output_type": "stream",
          "text": [
            "192/192 [==============================] - 1s 5ms/step\n"
          ]
        },
        {
          "data": {
            "image/png": "[encoded data removed]",
            "text/plain": [
              "<Figure size 640x480 with 2 Axes>"
            ]
          },
          "metadata": {},
          "output_type": "display_data"
        }
      ],
      "source": [
        "#hard = 0 , med = 1 , soft = 2\n",
        "# Make predictions on the validation set\n",
        "y_val_pred_prob = CNN_model.predict(X_test)\n",
        "y_val_pred = np.argmax(y_val_pred_prob, axis=1)\n",
        "\n",
        "# Create a confusion matrix\n",
        "cm = confusion_matrix(y_test, y_val_pred)\n",
        "\n",
        "# Plot the confusion matrix using seaborn\n",
        "labels = np.unique(y_test)\n",
        "sns.heatmap(cm, annot=True, cmap='Blues', fmt='d', xticklabels=labels, yticklabels=labels)\n",
        "\n",
        "# Add labels and title to the plot\n",
        "plt.xlabel('Predicted')\n",
        "plt.ylabel('Actual')\n",
        "plt.title('Confusion Matrix')\n",
        "\n",
        "# Display the plot\n",
        "plt.show()"
      ]
    }
  ],
  "metadata": {
    "colab": {
      "provenance": []
    },
    "kernelspec": {
      "display_name": "Python 3",
      "name": "python3"
    },
    "language_info": {
      "name": "python"
    }
  },
  "nbformat": 4,
  "nbformat_minor": 0
}
