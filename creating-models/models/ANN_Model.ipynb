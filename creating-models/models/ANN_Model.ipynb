{
  "cells": [
    {
      "cell_type": "markdown",
      "metadata": {
        "id": "5iaQttXaEvxj"
      },
      "source": [
        "#ANN Model"
      ]
    },
    {
      "cell_type": "code",
      "execution_count": null,
      "metadata": {
        "colab": {
          "base_uri": "https://localhost:8080/"
        },
        "id": "VdZwiu4sEw-C",
        "outputId": "28c74e5b-7a8f-4b81-d2e2-f2db6070539d"
      },
      "outputs": [
        {
          "name": "stdout",
          "output_type": "stream",
          "text": [
            "Model: \"sequential_53\"\n",
            "_________________________________________________________________\n",
            " Layer (type)                Output Shape              Param #   \n",
            "=================================================================\n",
            " dense_110 (Dense)           (None, 128)               3840      \n",
            "                                                                 \n",
            " flatten_1 (Flatten)         (None, 128)               0         \n",
            "                                                                 \n",
            " dense_111 (Dense)           (None, 3)                 387       \n",
            "                                                                 \n",
            "=================================================================\n",
            "Total params: 4227 (16.51 KB)\n",
            "Trainable params: 4227 (16.51 KB)\n",
            "Non-trainable params: 0 (0.00 Byte)\n",
            "_________________________________________________________________\n"
          ]
        }
      ],
      "source": [
        "import keras;\n",
        "from keras.models import Sequential;\n",
        "from keras.layers import Dense;\n",
        "from keras.layers import Flatten;\n",
        "\n",
        "#build ANN model\n",
        "ANN_model = tf.keras.models.Sequential()\n",
        "\n",
        "ANN_model.add(Dense(128, activation='relu',input_shape=(X_processed.shape[1],)))\n",
        "ANN_model.add(Flatten())\n",
        "ANN_model.add(Dense(3, activation='softmax'))\n",
        "\n",
        "ANN_model.summary()"
      ]
    },
    {
      "cell_type": "code",
      "execution_count": null,
      "metadata": {
        "id": "WeUKzkk2EvdX"
      },
      "outputs": [],
      "source": [
        "ANN_model.compile(optimizer=tf.keras.optimizers.Adam(learning_rate=0.001),loss=\"SparseCategoricalCrossentropy\",metrics=['accuracy'])"
      ]
    },
    {
      "cell_type": "code",
      "execution_count": null,
      "metadata": {
        "colab": {
          "base_uri": "https://localhost:8080/"
        },
        "id": "qjnTglvnE0md",
        "outputId": "108d541b-cc26-4e35-a904-509faa9e0852"
      },
      "outputs": [
        {
          "name": "stdout",
          "output_type": "stream",
          "text": [
            "Epoch 1/10\n",
            "736/736 [==============================] - 3s 3ms/step - loss: 0.6102 - accuracy: 0.7360 - val_loss: 0.5390 - val_accuracy: 0.7557\n",
            "Epoch 2/10\n",
            "736/736 [==============================] - 1s 2ms/step - loss: 0.5325 - accuracy: 0.7596 - val_loss: 0.5200 - val_accuracy: 0.7626\n",
            "Epoch 3/10\n",
            "736/736 [==============================] - 1s 2ms/step - loss: 0.5234 - accuracy: 0.7613 - val_loss: 0.5161 - val_accuracy: 0.7634\n",
            "Epoch 4/10\n",
            "736/736 [==============================] - 2s 2ms/step - loss: 0.5204 - accuracy: 0.7604 - val_loss: 0.5173 - val_accuracy: 0.7610\n",
            "Epoch 5/10\n",
            "736/736 [==============================] - 1s 2ms/step - loss: 0.5187 - accuracy: 0.7612 - val_loss: 0.5128 - val_accuracy: 0.7623\n",
            "Epoch 6/10\n",
            "736/736 [==============================] - 2s 2ms/step - loss: 0.5175 - accuracy: 0.7605 - val_loss: 0.5122 - val_accuracy: 0.7618\n",
            "Epoch 7/10\n",
            "736/736 [==============================] - 2s 3ms/step - loss: 0.5160 - accuracy: 0.7617 - val_loss: 0.5116 - val_accuracy: 0.7619\n",
            "Epoch 8/10\n",
            "736/736 [==============================] - 2s 2ms/step - loss: 0.5154 - accuracy: 0.7615 - val_loss: 0.5113 - val_accuracy: 0.7626\n",
            "Epoch 9/10\n",
            "736/736 [==============================] - 1s 2ms/step - loss: 0.5151 - accuracy: 0.7611 - val_loss: 0.5113 - val_accuracy: 0.7652\n",
            "Epoch 10/10\n",
            "736/736 [==============================] - 1s 2ms/step - loss: 0.5143 - accuracy: 0.7607 - val_loss: 0.5106 - val_accuracy: 0.7631\n"
          ]
        }
      ],
      "source": [
        "history = ANN_model.fit(X_train,\n",
        "                    y_train,\n",
        "                    validation_data = (X_val, y_val),\n",
        "                    epochs = 10,\n",
        "                    batch_size = 75)"
      ]
    },
    {
      "cell_type": "code",
      "execution_count": null,
      "metadata": {
        "colab": {
          "base_uri": "https://localhost:8080/"
        },
        "id": "5gojr3CQShn0",
        "outputId": "f9f4b8ff-d7d4-42ab-d614-aaa2b1592f0b"
      },
      "outputs": [
        {
          "name": "stderr",
          "output_type": "stream",
          "text": [
            "/usr/local/lib/python3.10/dist-packages/keras/src/engine/training.py:3103: UserWarning: You are saving your model as an HDF5 file via `model.save()`. This file format is considered legacy. We recommend using instead the native Keras format, e.g. `model.save('my_model.keras')`.\n",
            "  saving_api.save_model(\n"
          ]
        }
      ],
      "source": [
        "ANN_model.save('ANN_model.h5')"
      ]
    },
    {
      "cell_type": "code",
      "execution_count": null,
      "metadata": {
        "colab": {
          "base_uri": "https://localhost:8080/",
          "height": 17
        },
        "id": "MqnNzVtTSl10",
        "outputId": "39aaa272-fec9-4844-c810-e26e53c23d88"
      },
      "outputs": [
        {
          "data": {
            "application/javascript": "\n    async function download(id, filename, size) {\n      if (!google.colab.kernel.accessAllowed) {\n        return;\n      }\n      const div = document.createElement('div');\n      const label = document.createElement('label');\n      label.textContent = `Downloading \"${filename}\": `;\n      div.appendChild(label);\n      const progress = document.createElement('progress');\n      progress.max = size;\n      div.appendChild(progress);\n      document.body.appendChild(div);\n\n      const buffers = [];\n      let downloaded = 0;\n\n      const channel = await google.colab.kernel.comms.open(id);\n      // Send a message to notify the kernel that we're ready.\n      channel.send({})\n\n      for await (const message of channel.messages) {\n        // Send a message to notify the kernel that we're ready.\n        channel.send({})\n        if (message.buffers) {\n          for (const buffer of message.buffers) {\n            buffers.push(buffer);\n            downloaded += buffer.byteLength;\n            progress.value = downloaded;\n          }\n        }\n      }\n      const blob = new Blob(buffers, {type: 'application/binary'});\n      const a = document.createElement('a');\n      a.href = window.URL.createObjectURL(blob);\n      a.download = filename;\n      div.appendChild(a);\n      a.click();\n      div.remove();\n    }\n  ",
            "text/plain": [
              "<IPython.core.display.Javascript object>"
            ]
          },
          "metadata": {},
          "output_type": "display_data"
        },
        {
          "data": {
            "application/javascript": "download(\"download_ccd602c9-8195-4c23-a28a-ecb3fe42665b\", \"ANN_model.h5\", 77744)",
            "text/plain": [
              "<IPython.core.display.Javascript object>"
            ]
          },
          "metadata": {},
          "output_type": "display_data"
        }
      ],
      "source": [
        "from google.colab import files\n",
        "files.download('ANN_model.h5')"
      ]
    },
    {
      "cell_type": "code",
      "execution_count": null,
      "metadata": {
        "colab": {
          "base_uri": "https://localhost:8080/"
        },
        "id": "dFjavJIEE7du",
        "outputId": "2bf9e8b8-a3f1-410b-f42c-fd82ce183c39"
      },
      "outputs": [
        {
          "name": "stdout",
          "output_type": "stream",
          "text": [
            "192/192 [==============================] - 0s 1ms/step - loss: 0.5106 - accuracy: 0.7631\n"
          ]
        },
        {
          "data": {
            "text/plain": [
              "[0.510551393032074, 0.7630849480628967]"
            ]
          },
          "execution_count": 41,
          "metadata": {},
          "output_type": "execute_result"
        }
      ],
      "source": [
        "ANN_model.evaluate(X_test, y_test)"
      ]
    },
    {
      "cell_type": "code",
      "execution_count": null,
      "metadata": {
        "colab": {
          "base_uri": "https://localhost:8080/",
          "height": 489
        },
        "id": "5SWBLDRQFATh",
        "outputId": "79d3e5f2-fd6e-4943-9ffc-258b031a640e"
      },
      "outputs": [
        {
          "name": "stdout",
          "output_type": "stream",
          "text": [
            "192/192 [==============================] - 0s 1ms/step\n"
          ]
        },
        {
          "data": {
            "image/png": "[encoded data removed]",
            "text/plain": [
              "<Figure size 640x480 with 2 Axes>"
            ]
          },
          "metadata": {},
          "output_type": "display_data"
        }
      ],
      "source": [
        "#hard = 0 , med = 1 , soft = 2\n",
        "# Make predictions on the validation set\n",
        "y_val_pred_prob = ANN_model.predict(X_test)\n",
        "y_val_pred = np.argmax(y_val_pred_prob, axis=1)\n",
        "\n",
        "# Create a confusion matrix\n",
        "cm = confusion_matrix(y_test, y_val_pred)\n",
        "\n",
        "# Plot the confusion matrix using seaborn\n",
        "labels = np.unique(y_test)\n",
        "sns.heatmap(cm, annot=True, cmap='Blues', fmt='d', xticklabels=labels, yticklabels=labels)\n",
        "\n",
        "# Add labels and title to the plot\n",
        "plt.xlabel('Predicted')\n",
        "plt.ylabel('Actual')\n",
        "plt.title('Confusion Matrix')\n",
        "\n",
        "# Display the plot\n",
        "plt.show()"
      ]
    }
  ],
  "metadata": {
    "colab": {
      "provenance": []
    },
    "kernelspec": {
      "display_name": "Python 3",
      "name": "python3"
    },
    "language_info": {
      "name": "python"
    }
  },
  "nbformat": 4,
  "nbformat_minor": 0
}
